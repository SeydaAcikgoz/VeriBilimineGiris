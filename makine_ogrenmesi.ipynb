{
 "cells": [
  {
   "cell_type": "code",
   "execution_count": 1,
   "id": "3fe59167-60cc-4e43-9cdf-a76f29fe9879",
   "metadata": {
    "tags": []
   },
   "outputs": [],
   "source": [
    "import numpy as np\n",
    "import pandas as pd \n",
    "import statsmodels.api as sm\n",
    "import statsmodels.formula.api as smf\n",
    "import seaborn as sns\n",
    "from sklearn.preprocessing import scale \n",
    "from sklearn.model_selection import train_test_split, GridSearchCV, cross_val_score\n",
    "from sklearn.metrics import confusion_matrix, accuracy_score, classification_report\n",
    "from sklearn.metrics import roc_auc_score,roc_curve\n",
    "import statsmodels.formula.api as smf\n",
    "import matplotlib.pyplot as plt\n",
    "from sklearn.neighbors import KNeighborsClassifier\n",
    "from sklearn.discriminant_analysis import LinearDiscriminantAnalysis\n",
    "from sklearn.linear_model import LogisticRegression\n",
    "from sklearn.svm import SVC\n",
    "from sklearn.naive_bayes import GaussianNB\n",
    "from sklearn import tree\n",
    "from sklearn.ensemble import RandomForestClassifier\n",
    "\n",
    "from warnings import filterwarnings\n",
    "filterwarnings('ignore')"
   ]
  },
  {
   "cell_type": "code",
   "execution_count": 2,
   "id": "7363b2ea-7294-43b3-aa58-76949ba6ed35",
   "metadata": {
    "tags": []
   },
   "outputs": [],
   "source": [
    "import pandas as pd"
   ]
  },
  {
   "cell_type": "code",
   "execution_count": 3,
   "id": "7c06a36c-2bb8-4a51-8d13-263003630012",
   "metadata": {
    "tags": []
   },
   "outputs": [],
   "source": [
    "df = pd.read_csv('veriseti_duzenli.csv')"
   ]
  },
  {
   "cell_type": "code",
   "execution_count": 4,
   "id": "84c1880c-a1d3-4a60-b832-712b61975f1d",
   "metadata": {
    "tags": []
   },
   "outputs": [
    {
     "data": {
      "text/html": [
       "<div>\n",
       "<style scoped>\n",
       "    .dataframe tbody tr th:only-of-type {\n",
       "        vertical-align: middle;\n",
       "    }\n",
       "\n",
       "    .dataframe tbody tr th {\n",
       "        vertical-align: top;\n",
       "    }\n",
       "\n",
       "    .dataframe thead th {\n",
       "        text-align: right;\n",
       "    }\n",
       "</style>\n",
       "<table border=\"1\" class=\"dataframe\">\n",
       "  <thead>\n",
       "    <tr style=\"text-align: right;\">\n",
       "      <th></th>\n",
       "      <th>Id</th>\n",
       "      <th>Yas</th>\n",
       "      <th>Cinsiyet</th>\n",
       "      <th>Boy</th>\n",
       "      <th>Agirlik</th>\n",
       "      <th>SistolikKanBasinci</th>\n",
       "      <th>DiyastolikKanBasinci</th>\n",
       "      <th>Kolestrol</th>\n",
       "      <th>Glikoz</th>\n",
       "      <th>Sigara</th>\n",
       "      <th>Alkol</th>\n",
       "      <th>FizikselAktivite</th>\n",
       "      <th>KardiyoVasküler</th>\n",
       "      <th>VKI</th>\n",
       "    </tr>\n",
       "  </thead>\n",
       "  <tbody>\n",
       "    <tr>\n",
       "      <th>0</th>\n",
       "      <td>988</td>\n",
       "      <td>61</td>\n",
       "      <td>Kadin</td>\n",
       "      <td>1.55</td>\n",
       "      <td>69.000000</td>\n",
       "      <td>130.0</td>\n",
       "      <td>80</td>\n",
       "      <td>1</td>\n",
       "      <td>2</td>\n",
       "      <td>Hayir</td>\n",
       "      <td>Hayir</td>\n",
       "      <td>Aktif</td>\n",
       "      <td>Yok</td>\n",
       "      <td>28.720083</td>\n",
       "    </tr>\n",
       "    <tr>\n",
       "      <th>1</th>\n",
       "      <td>989</td>\n",
       "      <td>40</td>\n",
       "      <td>Kadin</td>\n",
       "      <td>1.63</td>\n",
       "      <td>71.000000</td>\n",
       "      <td>110.0</td>\n",
       "      <td>70</td>\n",
       "      <td>1</td>\n",
       "      <td>1</td>\n",
       "      <td>Hayir</td>\n",
       "      <td>Hayir</td>\n",
       "      <td>Aktif</td>\n",
       "      <td>Var</td>\n",
       "      <td>26.722873</td>\n",
       "    </tr>\n",
       "    <tr>\n",
       "      <th>2</th>\n",
       "      <td>990</td>\n",
       "      <td>60</td>\n",
       "      <td>Kadin</td>\n",
       "      <td>1.65</td>\n",
       "      <td>70.000000</td>\n",
       "      <td>120.0</td>\n",
       "      <td>80</td>\n",
       "      <td>1</td>\n",
       "      <td>1</td>\n",
       "      <td>Hayir</td>\n",
       "      <td>Hayir</td>\n",
       "      <td>Aktif</td>\n",
       "      <td>Yok</td>\n",
       "      <td>25.711662</td>\n",
       "    </tr>\n",
       "    <tr>\n",
       "      <th>3</th>\n",
       "      <td>991</td>\n",
       "      <td>39</td>\n",
       "      <td>Erkek</td>\n",
       "      <td>1.65</td>\n",
       "      <td>85.000000</td>\n",
       "      <td>120.0</td>\n",
       "      <td>80</td>\n",
       "      <td>1</td>\n",
       "      <td>1</td>\n",
       "      <td>Evet</td>\n",
       "      <td>Evet</td>\n",
       "      <td>Aktif</td>\n",
       "      <td>Yok</td>\n",
       "      <td>31.221304</td>\n",
       "    </tr>\n",
       "    <tr>\n",
       "      <th>4</th>\n",
       "      <td>992</td>\n",
       "      <td>64</td>\n",
       "      <td>Kadin</td>\n",
       "      <td>1.55</td>\n",
       "      <td>62.000000</td>\n",
       "      <td>120.0</td>\n",
       "      <td>80</td>\n",
       "      <td>1</td>\n",
       "      <td>1</td>\n",
       "      <td>Hayir</td>\n",
       "      <td>Hayir</td>\n",
       "      <td>Aktif</td>\n",
       "      <td>Yok</td>\n",
       "      <td>25.806452</td>\n",
       "    </tr>\n",
       "    <tr>\n",
       "      <th>...</th>\n",
       "      <td>...</td>\n",
       "      <td>...</td>\n",
       "      <td>...</td>\n",
       "      <td>...</td>\n",
       "      <td>...</td>\n",
       "      <td>...</td>\n",
       "      <td>...</td>\n",
       "      <td>...</td>\n",
       "      <td>...</td>\n",
       "      <td>...</td>\n",
       "      <td>...</td>\n",
       "      <td>...</td>\n",
       "      <td>...</td>\n",
       "      <td>...</td>\n",
       "    </tr>\n",
       "    <tr>\n",
       "      <th>69296</th>\n",
       "      <td>99993</td>\n",
       "      <td>52</td>\n",
       "      <td>Erkek</td>\n",
       "      <td>1.68</td>\n",
       "      <td>76.000000</td>\n",
       "      <td>120.0</td>\n",
       "      <td>80</td>\n",
       "      <td>1</td>\n",
       "      <td>1</td>\n",
       "      <td>Evet</td>\n",
       "      <td>Hayir</td>\n",
       "      <td>Aktif</td>\n",
       "      <td>Yok</td>\n",
       "      <td>26.927438</td>\n",
       "    </tr>\n",
       "    <tr>\n",
       "      <th>69297</th>\n",
       "      <td>99995</td>\n",
       "      <td>61</td>\n",
       "      <td>Kadin</td>\n",
       "      <td>1.58</td>\n",
       "      <td>126.000000</td>\n",
       "      <td>140.0</td>\n",
       "      <td>90</td>\n",
       "      <td>2</td>\n",
       "      <td>2</td>\n",
       "      <td>Hayir</td>\n",
       "      <td>Hayir</td>\n",
       "      <td>Aktif</td>\n",
       "      <td>Var</td>\n",
       "      <td>50.472681</td>\n",
       "    </tr>\n",
       "    <tr>\n",
       "      <th>69298</th>\n",
       "      <td>99996</td>\n",
       "      <td>52</td>\n",
       "      <td>Erkek</td>\n",
       "      <td>1.83</td>\n",
       "      <td>105.000000</td>\n",
       "      <td>180.0</td>\n",
       "      <td>90</td>\n",
       "      <td>3</td>\n",
       "      <td>1</td>\n",
       "      <td>Hayir</td>\n",
       "      <td>Evet</td>\n",
       "      <td>Pasif</td>\n",
       "      <td>Var</td>\n",
       "      <td>31.353579</td>\n",
       "    </tr>\n",
       "    <tr>\n",
       "      <th>69299</th>\n",
       "      <td>99998</td>\n",
       "      <td>61</td>\n",
       "      <td>Kadin</td>\n",
       "      <td>1.63</td>\n",
       "      <td>72.000000</td>\n",
       "      <td>135.0</td>\n",
       "      <td>80</td>\n",
       "      <td>1</td>\n",
       "      <td>2</td>\n",
       "      <td>Hayir</td>\n",
       "      <td>Hayir</td>\n",
       "      <td>Pasif</td>\n",
       "      <td>Var</td>\n",
       "      <td>27.099251</td>\n",
       "    </tr>\n",
       "    <tr>\n",
       "      <th>69300</th>\n",
       "      <td>99999</td>\n",
       "      <td>56</td>\n",
       "      <td>Kadin</td>\n",
       "      <td>1.70</td>\n",
       "      <td>73.473108</td>\n",
       "      <td>120.0</td>\n",
       "      <td>80</td>\n",
       "      <td>2</td>\n",
       "      <td>1</td>\n",
       "      <td>Hayir</td>\n",
       "      <td>Hayir</td>\n",
       "      <td>Aktif</td>\n",
       "      <td>Yok</td>\n",
       "      <td>25.423221</td>\n",
       "    </tr>\n",
       "  </tbody>\n",
       "</table>\n",
       "<p>69301 rows × 14 columns</p>\n",
       "</div>"
      ],
      "text/plain": [
       "          Id  Yas Cinsiyet   Boy     Agirlik  SistolikKanBasinci  \\\n",
       "0        988   61    Kadin  1.55   69.000000               130.0   \n",
       "1        989   40    Kadin  1.63   71.000000               110.0   \n",
       "2        990   60    Kadin  1.65   70.000000               120.0   \n",
       "3        991   39    Erkek  1.65   85.000000               120.0   \n",
       "4        992   64    Kadin  1.55   62.000000               120.0   \n",
       "...      ...  ...      ...   ...         ...                 ...   \n",
       "69296  99993   52    Erkek  1.68   76.000000               120.0   \n",
       "69297  99995   61    Kadin  1.58  126.000000               140.0   \n",
       "69298  99996   52    Erkek  1.83  105.000000               180.0   \n",
       "69299  99998   61    Kadin  1.63   72.000000               135.0   \n",
       "69300  99999   56    Kadin  1.70   73.473108               120.0   \n",
       "\n",
       "       DiyastolikKanBasinci  Kolestrol  Glikoz Sigara  Alkol FizikselAktivite  \\\n",
       "0                        80          1       2  Hayir  Hayir            Aktif   \n",
       "1                        70          1       1  Hayir  Hayir            Aktif   \n",
       "2                        80          1       1  Hayir  Hayir            Aktif   \n",
       "3                        80          1       1   Evet   Evet            Aktif   \n",
       "4                        80          1       1  Hayir  Hayir            Aktif   \n",
       "...                     ...        ...     ...    ...    ...              ...   \n",
       "69296                    80          1       1   Evet  Hayir            Aktif   \n",
       "69297                    90          2       2  Hayir  Hayir            Aktif   \n",
       "69298                    90          3       1  Hayir   Evet            Pasif   \n",
       "69299                    80          1       2  Hayir  Hayir            Pasif   \n",
       "69300                    80          2       1  Hayir  Hayir            Aktif   \n",
       "\n",
       "      KardiyoVasküler        VKI  \n",
       "0                 Yok  28.720083  \n",
       "1                 Var  26.722873  \n",
       "2                 Yok  25.711662  \n",
       "3                 Yok  31.221304  \n",
       "4                 Yok  25.806452  \n",
       "...               ...        ...  \n",
       "69296             Yok  26.927438  \n",
       "69297             Var  50.472681  \n",
       "69298             Var  31.353579  \n",
       "69299             Var  27.099251  \n",
       "69300             Yok  25.423221  \n",
       "\n",
       "[69301 rows x 14 columns]"
      ]
     },
     "execution_count": 4,
     "metadata": {},
     "output_type": "execute_result"
    }
   ],
   "source": [
    "df"
   ]
  },
  {
   "cell_type": "code",
   "execution_count": 5,
   "id": "0eebe260-eaf9-4cfe-9ac7-d16aabe093f8",
   "metadata": {
    "tags": []
   },
   "outputs": [
    {
     "data": {
      "text/html": [
       "<div>\n",
       "<style scoped>\n",
       "    .dataframe tbody tr th:only-of-type {\n",
       "        vertical-align: middle;\n",
       "    }\n",
       "\n",
       "    .dataframe tbody tr th {\n",
       "        vertical-align: top;\n",
       "    }\n",
       "\n",
       "    .dataframe thead th {\n",
       "        text-align: right;\n",
       "    }\n",
       "</style>\n",
       "<table border=\"1\" class=\"dataframe\">\n",
       "  <thead>\n",
       "    <tr style=\"text-align: right;\">\n",
       "      <th></th>\n",
       "      <th>Yas</th>\n",
       "      <th>Cinsiyet</th>\n",
       "      <th>Boy</th>\n",
       "      <th>Agirlik</th>\n",
       "      <th>SistolikKanBasinci</th>\n",
       "      <th>DiyastolikKanBasinci</th>\n",
       "      <th>Kolestrol</th>\n",
       "      <th>Glikoz</th>\n",
       "      <th>Sigara</th>\n",
       "      <th>Alkol</th>\n",
       "      <th>FizikselAktivite</th>\n",
       "      <th>KardiyoVasküler</th>\n",
       "      <th>VKI</th>\n",
       "    </tr>\n",
       "  </thead>\n",
       "  <tbody>\n",
       "    <tr>\n",
       "      <th>0</th>\n",
       "      <td>61</td>\n",
       "      <td>Kadin</td>\n",
       "      <td>1.55</td>\n",
       "      <td>69.000000</td>\n",
       "      <td>130.0</td>\n",
       "      <td>80</td>\n",
       "      <td>1</td>\n",
       "      <td>2</td>\n",
       "      <td>Hayir</td>\n",
       "      <td>Hayir</td>\n",
       "      <td>Aktif</td>\n",
       "      <td>Yok</td>\n",
       "      <td>28.720083</td>\n",
       "    </tr>\n",
       "    <tr>\n",
       "      <th>1</th>\n",
       "      <td>40</td>\n",
       "      <td>Kadin</td>\n",
       "      <td>1.63</td>\n",
       "      <td>71.000000</td>\n",
       "      <td>110.0</td>\n",
       "      <td>70</td>\n",
       "      <td>1</td>\n",
       "      <td>1</td>\n",
       "      <td>Hayir</td>\n",
       "      <td>Hayir</td>\n",
       "      <td>Aktif</td>\n",
       "      <td>Var</td>\n",
       "      <td>26.722873</td>\n",
       "    </tr>\n",
       "    <tr>\n",
       "      <th>2</th>\n",
       "      <td>60</td>\n",
       "      <td>Kadin</td>\n",
       "      <td>1.65</td>\n",
       "      <td>70.000000</td>\n",
       "      <td>120.0</td>\n",
       "      <td>80</td>\n",
       "      <td>1</td>\n",
       "      <td>1</td>\n",
       "      <td>Hayir</td>\n",
       "      <td>Hayir</td>\n",
       "      <td>Aktif</td>\n",
       "      <td>Yok</td>\n",
       "      <td>25.711662</td>\n",
       "    </tr>\n",
       "    <tr>\n",
       "      <th>3</th>\n",
       "      <td>39</td>\n",
       "      <td>Erkek</td>\n",
       "      <td>1.65</td>\n",
       "      <td>85.000000</td>\n",
       "      <td>120.0</td>\n",
       "      <td>80</td>\n",
       "      <td>1</td>\n",
       "      <td>1</td>\n",
       "      <td>Evet</td>\n",
       "      <td>Evet</td>\n",
       "      <td>Aktif</td>\n",
       "      <td>Yok</td>\n",
       "      <td>31.221304</td>\n",
       "    </tr>\n",
       "    <tr>\n",
       "      <th>4</th>\n",
       "      <td>64</td>\n",
       "      <td>Kadin</td>\n",
       "      <td>1.55</td>\n",
       "      <td>62.000000</td>\n",
       "      <td>120.0</td>\n",
       "      <td>80</td>\n",
       "      <td>1</td>\n",
       "      <td>1</td>\n",
       "      <td>Hayir</td>\n",
       "      <td>Hayir</td>\n",
       "      <td>Aktif</td>\n",
       "      <td>Yok</td>\n",
       "      <td>25.806452</td>\n",
       "    </tr>\n",
       "    <tr>\n",
       "      <th>...</th>\n",
       "      <td>...</td>\n",
       "      <td>...</td>\n",
       "      <td>...</td>\n",
       "      <td>...</td>\n",
       "      <td>...</td>\n",
       "      <td>...</td>\n",
       "      <td>...</td>\n",
       "      <td>...</td>\n",
       "      <td>...</td>\n",
       "      <td>...</td>\n",
       "      <td>...</td>\n",
       "      <td>...</td>\n",
       "      <td>...</td>\n",
       "    </tr>\n",
       "    <tr>\n",
       "      <th>69296</th>\n",
       "      <td>52</td>\n",
       "      <td>Erkek</td>\n",
       "      <td>1.68</td>\n",
       "      <td>76.000000</td>\n",
       "      <td>120.0</td>\n",
       "      <td>80</td>\n",
       "      <td>1</td>\n",
       "      <td>1</td>\n",
       "      <td>Evet</td>\n",
       "      <td>Hayir</td>\n",
       "      <td>Aktif</td>\n",
       "      <td>Yok</td>\n",
       "      <td>26.927438</td>\n",
       "    </tr>\n",
       "    <tr>\n",
       "      <th>69297</th>\n",
       "      <td>61</td>\n",
       "      <td>Kadin</td>\n",
       "      <td>1.58</td>\n",
       "      <td>126.000000</td>\n",
       "      <td>140.0</td>\n",
       "      <td>90</td>\n",
       "      <td>2</td>\n",
       "      <td>2</td>\n",
       "      <td>Hayir</td>\n",
       "      <td>Hayir</td>\n",
       "      <td>Aktif</td>\n",
       "      <td>Var</td>\n",
       "      <td>50.472681</td>\n",
       "    </tr>\n",
       "    <tr>\n",
       "      <th>69298</th>\n",
       "      <td>52</td>\n",
       "      <td>Erkek</td>\n",
       "      <td>1.83</td>\n",
       "      <td>105.000000</td>\n",
       "      <td>180.0</td>\n",
       "      <td>90</td>\n",
       "      <td>3</td>\n",
       "      <td>1</td>\n",
       "      <td>Hayir</td>\n",
       "      <td>Evet</td>\n",
       "      <td>Pasif</td>\n",
       "      <td>Var</td>\n",
       "      <td>31.353579</td>\n",
       "    </tr>\n",
       "    <tr>\n",
       "      <th>69299</th>\n",
       "      <td>61</td>\n",
       "      <td>Kadin</td>\n",
       "      <td>1.63</td>\n",
       "      <td>72.000000</td>\n",
       "      <td>135.0</td>\n",
       "      <td>80</td>\n",
       "      <td>1</td>\n",
       "      <td>2</td>\n",
       "      <td>Hayir</td>\n",
       "      <td>Hayir</td>\n",
       "      <td>Pasif</td>\n",
       "      <td>Var</td>\n",
       "      <td>27.099251</td>\n",
       "    </tr>\n",
       "    <tr>\n",
       "      <th>69300</th>\n",
       "      <td>56</td>\n",
       "      <td>Kadin</td>\n",
       "      <td>1.70</td>\n",
       "      <td>73.473108</td>\n",
       "      <td>120.0</td>\n",
       "      <td>80</td>\n",
       "      <td>2</td>\n",
       "      <td>1</td>\n",
       "      <td>Hayir</td>\n",
       "      <td>Hayir</td>\n",
       "      <td>Aktif</td>\n",
       "      <td>Yok</td>\n",
       "      <td>25.423221</td>\n",
       "    </tr>\n",
       "  </tbody>\n",
       "</table>\n",
       "<p>69301 rows × 13 columns</p>\n",
       "</div>"
      ],
      "text/plain": [
       "       Yas Cinsiyet   Boy     Agirlik  SistolikKanBasinci  \\\n",
       "0       61    Kadin  1.55   69.000000               130.0   \n",
       "1       40    Kadin  1.63   71.000000               110.0   \n",
       "2       60    Kadin  1.65   70.000000               120.0   \n",
       "3       39    Erkek  1.65   85.000000               120.0   \n",
       "4       64    Kadin  1.55   62.000000               120.0   \n",
       "...    ...      ...   ...         ...                 ...   \n",
       "69296   52    Erkek  1.68   76.000000               120.0   \n",
       "69297   61    Kadin  1.58  126.000000               140.0   \n",
       "69298   52    Erkek  1.83  105.000000               180.0   \n",
       "69299   61    Kadin  1.63   72.000000               135.0   \n",
       "69300   56    Kadin  1.70   73.473108               120.0   \n",
       "\n",
       "       DiyastolikKanBasinci  Kolestrol  Glikoz Sigara  Alkol FizikselAktivite  \\\n",
       "0                        80          1       2  Hayir  Hayir            Aktif   \n",
       "1                        70          1       1  Hayir  Hayir            Aktif   \n",
       "2                        80          1       1  Hayir  Hayir            Aktif   \n",
       "3                        80          1       1   Evet   Evet            Aktif   \n",
       "4                        80          1       1  Hayir  Hayir            Aktif   \n",
       "...                     ...        ...     ...    ...    ...              ...   \n",
       "69296                    80          1       1   Evet  Hayir            Aktif   \n",
       "69297                    90          2       2  Hayir  Hayir            Aktif   \n",
       "69298                    90          3       1  Hayir   Evet            Pasif   \n",
       "69299                    80          1       2  Hayir  Hayir            Pasif   \n",
       "69300                    80          2       1  Hayir  Hayir            Aktif   \n",
       "\n",
       "      KardiyoVasküler        VKI  \n",
       "0                 Yok  28.720083  \n",
       "1                 Var  26.722873  \n",
       "2                 Yok  25.711662  \n",
       "3                 Yok  31.221304  \n",
       "4                 Yok  25.806452  \n",
       "...               ...        ...  \n",
       "69296             Yok  26.927438  \n",
       "69297             Var  50.472681  \n",
       "69298             Var  31.353579  \n",
       "69299             Var  27.099251  \n",
       "69300             Yok  25.423221  \n",
       "\n",
       "[69301 rows x 13 columns]"
      ]
     },
     "execution_count": 5,
     "metadata": {},
     "output_type": "execute_result"
    }
   ],
   "source": [
    "#ıd değişkeni hastalık durumunu etkilemediği için silinmiştir\n",
    "df=df.drop('Id', axis=1)\n",
    "df"
   ]
  },
  {
   "cell_type": "code",
   "execution_count": 6,
   "id": "8018e952-5c71-47c8-b7a5-b7b940cc6806",
   "metadata": {
    "tags": []
   },
   "outputs": [
    {
     "name": "stdout",
     "output_type": "stream",
     "text": [
      "<class 'pandas.core.frame.DataFrame'>\n",
      "RangeIndex: 69301 entries, 0 to 69300\n",
      "Data columns (total 13 columns):\n",
      " #   Column                Non-Null Count  Dtype  \n",
      "---  ------                --------------  -----  \n",
      " 0   Yas                   69301 non-null  int64  \n",
      " 1   Cinsiyet              69301 non-null  object \n",
      " 2   Boy                   69301 non-null  float64\n",
      " 3   Agirlik               69301 non-null  float64\n",
      " 4   SistolikKanBasinci    69301 non-null  float64\n",
      " 5   DiyastolikKanBasinci  69301 non-null  int64  \n",
      " 6   Kolestrol             69301 non-null  int64  \n",
      " 7   Glikoz                69301 non-null  int64  \n",
      " 8   Sigara                69301 non-null  object \n",
      " 9   Alkol                 69301 non-null  object \n",
      " 10  FizikselAktivite      69301 non-null  object \n",
      " 11  KardiyoVasküler       69301 non-null  object \n",
      " 12  VKI                   69301 non-null  float64\n",
      "dtypes: float64(4), int64(4), object(5)\n",
      "memory usage: 6.9+ MB\n"
     ]
    }
   ],
   "source": [
    "df.info()"
   ]
  },
  {
   "cell_type": "code",
   "execution_count": 7,
   "id": "8dbe56b3-7d6b-45ea-aeda-fc2f68072000",
   "metadata": {
    "tags": []
   },
   "outputs": [
    {
     "data": {
      "text/plain": [
       "KardiyoVasküler\n",
       "Yok    34679\n",
       "Var    34622\n",
       "Name: count, dtype: int64"
      ]
     },
     "execution_count": 7,
     "metadata": {},
     "output_type": "execute_result"
    }
   ],
   "source": [
    "df[\"KardiyoVasküler\"].value_counts()"
   ]
  },
  {
   "cell_type": "code",
   "execution_count": 8,
   "id": "9d2cd9d3-2bfa-4931-8ef9-bac4d5210941",
   "metadata": {
    "tags": []
   },
   "outputs": [
    {
     "data": {
      "image/png": "[encoded data removed]",
      "text/plain": [
       "<Figure size 640x480 with 1 Axes>"
      ]
     },
     "metadata": {},
     "output_type": "display_data"
    }
   ],
   "source": [
    "df[\"KardiyoVasküler\"].value_counts().plot.barh();"
   ]
  },
  {
   "cell_type": "code",
   "execution_count": 10,
   "id": "5a7f5408-41ce-473b-8653-d3b657decf49",
   "metadata": {
    "tags": []
   },
   "outputs": [
    {
     "data": {
      "text/plain": [
       "Cinsiyet\n",
       "Kadin    45079\n",
       "Erkek    24222\n",
       "Name: count, dtype: int64"
      ]
     },
     "execution_count": 10,
     "metadata": {},
     "output_type": "execute_result"
    }
   ],
   "source": [
    "df[\"Cinsiyet\"].value_counts()"
   ]
  },
  {
   "cell_type": "code",
   "execution_count": 11,
   "id": "8d60befe-ae6f-4f8a-9f32-26fa10217718",
   "metadata": {
    "tags": []
   },
   "outputs": [
    {
     "data": {
      "text/plain": [
       "Sigara\n",
       "Hayir    63199\n",
       "Evet      6102\n",
       "Name: count, dtype: int64"
      ]
     },
     "execution_count": 11,
     "metadata": {},
     "output_type": "execute_result"
    }
   ],
   "source": [
    "df[\"Sigara\"].value_counts()"
   ]
  },
  {
   "cell_type": "code",
   "execution_count": 12,
   "id": "3d0d7452-7d0d-458f-91d3-345840d978b7",
   "metadata": {
    "tags": []
   },
   "outputs": [
    {
     "data": {
      "text/plain": [
       "Alkol\n",
       "Hayir    65567\n",
       "Evet      3734\n",
       "Name: count, dtype: int64"
      ]
     },
     "execution_count": 12,
     "metadata": {},
     "output_type": "execute_result"
    }
   ],
   "source": [
    "df[\"Alkol\"].value_counts()"
   ]
  },
  {
   "cell_type": "code",
   "execution_count": 13,
   "id": "0abf4822-1a77-4013-909b-a5fa584a6c34",
   "metadata": {
    "tags": []
   },
   "outputs": [
    {
     "data": {
      "text/plain": [
       "FizikselAktivite\n",
       "Aktif    55720\n",
       "Pasif    13581\n",
       "Name: count, dtype: int64"
      ]
     },
     "execution_count": 13,
     "metadata": {},
     "output_type": "execute_result"
    }
   ],
   "source": [
    "df[\"FizikselAktivite\"].value_counts()"
   ]
  },
  {
   "cell_type": "code",
   "execution_count": 14,
   "id": "219df885-36c5-4a57-a854-1341a875e1fc",
   "metadata": {
    "tags": []
   },
   "outputs": [
    {
     "data": {
      "text/html": [
       "<div>\n",
       "<style scoped>\n",
       "    .dataframe tbody tr th:only-of-type {\n",
       "        vertical-align: middle;\n",
       "    }\n",
       "\n",
       "    .dataframe tbody tr th {\n",
       "        vertical-align: top;\n",
       "    }\n",
       "\n",
       "    .dataframe thead th {\n",
       "        text-align: right;\n",
       "    }\n",
       "</style>\n",
       "<table border=\"1\" class=\"dataframe\">\n",
       "  <thead>\n",
       "    <tr style=\"text-align: right;\">\n",
       "      <th></th>\n",
       "      <th>count</th>\n",
       "      <th>mean</th>\n",
       "      <th>std</th>\n",
       "      <th>min</th>\n",
       "      <th>25%</th>\n",
       "      <th>50%</th>\n",
       "      <th>75%</th>\n",
       "      <th>max</th>\n",
       "    </tr>\n",
       "  </thead>\n",
       "  <tbody>\n",
       "    <tr>\n",
       "      <th>Yas</th>\n",
       "      <td>69301.0</td>\n",
       "      <td>52.839945</td>\n",
       "      <td>6.766592</td>\n",
       "      <td>29.000000</td>\n",
       "      <td>48.000000</td>\n",
       "      <td>53.000000</td>\n",
       "      <td>58.000000</td>\n",
       "      <td>64.000000</td>\n",
       "    </tr>\n",
       "    <tr>\n",
       "      <th>Boy</th>\n",
       "      <td>69301.0</td>\n",
       "      <td>1.643622</td>\n",
       "      <td>0.082053</td>\n",
       "      <td>0.550000</td>\n",
       "      <td>1.590000</td>\n",
       "      <td>1.650000</td>\n",
       "      <td>1.700000</td>\n",
       "      <td>2.500000</td>\n",
       "    </tr>\n",
       "    <tr>\n",
       "      <th>Agirlik</th>\n",
       "      <td>69301.0</td>\n",
       "      <td>74.203948</td>\n",
       "      <td>14.382661</td>\n",
       "      <td>10.000000</td>\n",
       "      <td>65.000000</td>\n",
       "      <td>72.000000</td>\n",
       "      <td>82.000000</td>\n",
       "      <td>200.000000</td>\n",
       "    </tr>\n",
       "    <tr>\n",
       "      <th>SistolikKanBasinci</th>\n",
       "      <td>69301.0</td>\n",
       "      <td>128.830738</td>\n",
       "      <td>154.775749</td>\n",
       "      <td>-150.000000</td>\n",
       "      <td>120.000000</td>\n",
       "      <td>120.000000</td>\n",
       "      <td>140.000000</td>\n",
       "      <td>16020.000000</td>\n",
       "    </tr>\n",
       "    <tr>\n",
       "      <th>DiyastolikKanBasinci</th>\n",
       "      <td>69301.0</td>\n",
       "      <td>96.649962</td>\n",
       "      <td>189.096251</td>\n",
       "      <td>-70.000000</td>\n",
       "      <td>80.000000</td>\n",
       "      <td>80.000000</td>\n",
       "      <td>90.000000</td>\n",
       "      <td>11000.000000</td>\n",
       "    </tr>\n",
       "    <tr>\n",
       "      <th>Kolestrol</th>\n",
       "      <td>69301.0</td>\n",
       "      <td>1.366777</td>\n",
       "      <td>0.680265</td>\n",
       "      <td>1.000000</td>\n",
       "      <td>1.000000</td>\n",
       "      <td>1.000000</td>\n",
       "      <td>2.000000</td>\n",
       "      <td>3.000000</td>\n",
       "    </tr>\n",
       "    <tr>\n",
       "      <th>Glikoz</th>\n",
       "      <td>69301.0</td>\n",
       "      <td>1.226447</td>\n",
       "      <td>0.572246</td>\n",
       "      <td>1.000000</td>\n",
       "      <td>1.000000</td>\n",
       "      <td>1.000000</td>\n",
       "      <td>1.000000</td>\n",
       "      <td>3.000000</td>\n",
       "    </tr>\n",
       "    <tr>\n",
       "      <th>VKI</th>\n",
       "      <td>69301.0</td>\n",
       "      <td>27.555120</td>\n",
       "      <td>6.091905</td>\n",
       "      <td>3.471784</td>\n",
       "      <td>23.875115</td>\n",
       "      <td>26.370238</td>\n",
       "      <td>30.222222</td>\n",
       "      <td>298.666667</td>\n",
       "    </tr>\n",
       "  </tbody>\n",
       "</table>\n",
       "</div>"
      ],
      "text/plain": [
       "                        count        mean         std         min         25%  \\\n",
       "Yas                   69301.0   52.839945    6.766592   29.000000   48.000000   \n",
       "Boy                   69301.0    1.643622    0.082053    0.550000    1.590000   \n",
       "Agirlik               69301.0   74.203948   14.382661   10.000000   65.000000   \n",
       "SistolikKanBasinci    69301.0  128.830738  154.775749 -150.000000  120.000000   \n",
       "DiyastolikKanBasinci  69301.0   96.649962  189.096251  -70.000000   80.000000   \n",
       "Kolestrol             69301.0    1.366777    0.680265    1.000000    1.000000   \n",
       "Glikoz                69301.0    1.226447    0.572246    1.000000    1.000000   \n",
       "VKI                   69301.0   27.555120    6.091905    3.471784   23.875115   \n",
       "\n",
       "                             50%         75%           max  \n",
       "Yas                    53.000000   58.000000     64.000000  \n",
       "Boy                     1.650000    1.700000      2.500000  \n",
       "Agirlik                72.000000   82.000000    200.000000  \n",
       "SistolikKanBasinci    120.000000  140.000000  16020.000000  \n",
       "DiyastolikKanBasinci   80.000000   90.000000  11000.000000  \n",
       "Kolestrol               1.000000    2.000000      3.000000  \n",
       "Glikoz                  1.000000    1.000000      3.000000  \n",
       "VKI                    26.370238   30.222222    298.666667  "
      ]
     },
     "execution_count": 14,
     "metadata": {},
     "output_type": "execute_result"
    }
   ],
   "source": [
    "df.describe().T"
   ]
  },
  {
   "cell_type": "markdown",
   "id": "bb98c490-5160-4b70-9e99-a75f7e23b631",
   "metadata": {},
   "source": [
    "## One-Hot Dönüşümü"
   ]
  },
  {
   "cell_type": "code",
   "execution_count": 15,
   "id": "e211cce3-0548-4081-af02-828bcec2916d",
   "metadata": {
    "tags": []
   },
   "outputs": [
    {
     "data": {
      "text/html": [
       "<div>\n",
       "<style scoped>\n",
       "    .dataframe tbody tr th:only-of-type {\n",
       "        vertical-align: middle;\n",
       "    }\n",
       "\n",
       "    .dataframe tbody tr th {\n",
       "        vertical-align: top;\n",
       "    }\n",
       "\n",
       "    .dataframe thead th {\n",
       "        text-align: right;\n",
       "    }\n",
       "</style>\n",
       "<table border=\"1\" class=\"dataframe\">\n",
       "  <thead>\n",
       "    <tr style=\"text-align: right;\">\n",
       "      <th></th>\n",
       "      <th>Cinsiyet_Erkek</th>\n",
       "      <th>Cinsiyet_Kadin</th>\n",
       "      <th>Sigara_Evet</th>\n",
       "      <th>Sigara_Hayir</th>\n",
       "      <th>Alkol_Evet</th>\n",
       "      <th>Alkol_Hayir</th>\n",
       "      <th>FizikselAktivite_Aktif</th>\n",
       "      <th>FizikselAktivite_Pasif</th>\n",
       "      <th>KardiyoVasküler_Var</th>\n",
       "      <th>KardiyoVasküler_Yok</th>\n",
       "    </tr>\n",
       "  </thead>\n",
       "  <tbody>\n",
       "    <tr>\n",
       "      <th>0</th>\n",
       "      <td>0</td>\n",
       "      <td>1</td>\n",
       "      <td>0</td>\n",
       "      <td>1</td>\n",
       "      <td>0</td>\n",
       "      <td>1</td>\n",
       "      <td>1</td>\n",
       "      <td>0</td>\n",
       "      <td>0</td>\n",
       "      <td>1</td>\n",
       "    </tr>\n",
       "    <tr>\n",
       "      <th>1</th>\n",
       "      <td>0</td>\n",
       "      <td>1</td>\n",
       "      <td>0</td>\n",
       "      <td>1</td>\n",
       "      <td>0</td>\n",
       "      <td>1</td>\n",
       "      <td>1</td>\n",
       "      <td>0</td>\n",
       "      <td>1</td>\n",
       "      <td>0</td>\n",
       "    </tr>\n",
       "    <tr>\n",
       "      <th>2</th>\n",
       "      <td>0</td>\n",
       "      <td>1</td>\n",
       "      <td>0</td>\n",
       "      <td>1</td>\n",
       "      <td>0</td>\n",
       "      <td>1</td>\n",
       "      <td>1</td>\n",
       "      <td>0</td>\n",
       "      <td>0</td>\n",
       "      <td>1</td>\n",
       "    </tr>\n",
       "    <tr>\n",
       "      <th>3</th>\n",
       "      <td>1</td>\n",
       "      <td>0</td>\n",
       "      <td>1</td>\n",
       "      <td>0</td>\n",
       "      <td>1</td>\n",
       "      <td>0</td>\n",
       "      <td>1</td>\n",
       "      <td>0</td>\n",
       "      <td>0</td>\n",
       "      <td>1</td>\n",
       "    </tr>\n",
       "    <tr>\n",
       "      <th>4</th>\n",
       "      <td>0</td>\n",
       "      <td>1</td>\n",
       "      <td>0</td>\n",
       "      <td>1</td>\n",
       "      <td>0</td>\n",
       "      <td>1</td>\n",
       "      <td>1</td>\n",
       "      <td>0</td>\n",
       "      <td>0</td>\n",
       "      <td>1</td>\n",
       "    </tr>\n",
       "  </tbody>\n",
       "</table>\n",
       "</div>"
      ],
      "text/plain": [
       "   Cinsiyet_Erkek  Cinsiyet_Kadin  Sigara_Evet  Sigara_Hayir  Alkol_Evet  \\\n",
       "0               0               1            0             1           0   \n",
       "1               0               1            0             1           0   \n",
       "2               0               1            0             1           0   \n",
       "3               1               0            1             0           1   \n",
       "4               0               1            0             1           0   \n",
       "\n",
       "   Alkol_Hayir  FizikselAktivite_Aktif  FizikselAktivite_Pasif  \\\n",
       "0            1                       1                       0   \n",
       "1            1                       1                       0   \n",
       "2            1                       1                       0   \n",
       "3            0                       1                       0   \n",
       "4            1                       1                       0   \n",
       "\n",
       "   KardiyoVasküler_Var  KardiyoVasküler_Yok  \n",
       "0                    0                    1  \n",
       "1                    1                    0  \n",
       "2                    0                    1  \n",
       "3                    0                    1  \n",
       "4                    0                    1  "
      ]
     },
     "execution_count": 15,
     "metadata": {},
     "output_type": "execute_result"
    }
   ],
   "source": [
    "#Kategorik değişkenler için one hot dönüşümü gerçekleştirdik\n",
    "dms = pd.get_dummies(df[['Cinsiyet','Sigara', 'Alkol', 'FizikselAktivite','KardiyoVasküler']])\n",
    "dms=dms.astype(int)\n",
    "dms.head()"
   ]
  },
  {
   "cell_type": "code",
   "execution_count": 16,
   "id": "2d45aeb6-63b6-4627-a7b9-83bc581096c3",
   "metadata": {
    "tags": []
   },
   "outputs": [
    {
     "data": {
      "text/html": [
       "<div>\n",
       "<style scoped>\n",
       "    .dataframe tbody tr th:only-of-type {\n",
       "        vertical-align: middle;\n",
       "    }\n",
       "\n",
       "    .dataframe tbody tr th {\n",
       "        vertical-align: top;\n",
       "    }\n",
       "\n",
       "    .dataframe thead th {\n",
       "        text-align: right;\n",
       "    }\n",
       "</style>\n",
       "<table border=\"1\" class=\"dataframe\">\n",
       "  <thead>\n",
       "    <tr style=\"text-align: right;\">\n",
       "      <th></th>\n",
       "      <th>Cinsiyet_Kadin</th>\n",
       "      <th>Sigara_Hayir</th>\n",
       "      <th>Alkol_Hayir</th>\n",
       "      <th>FizikselAktivite_Pasif</th>\n",
       "      <th>KardiyoVasküler_Yok</th>\n",
       "    </tr>\n",
       "  </thead>\n",
       "  <tbody>\n",
       "    <tr>\n",
       "      <th>0</th>\n",
       "      <td>1</td>\n",
       "      <td>1</td>\n",
       "      <td>1</td>\n",
       "      <td>0</td>\n",
       "      <td>1</td>\n",
       "    </tr>\n",
       "    <tr>\n",
       "      <th>1</th>\n",
       "      <td>1</td>\n",
       "      <td>1</td>\n",
       "      <td>1</td>\n",
       "      <td>0</td>\n",
       "      <td>0</td>\n",
       "    </tr>\n",
       "    <tr>\n",
       "      <th>2</th>\n",
       "      <td>1</td>\n",
       "      <td>1</td>\n",
       "      <td>1</td>\n",
       "      <td>0</td>\n",
       "      <td>1</td>\n",
       "    </tr>\n",
       "    <tr>\n",
       "      <th>3</th>\n",
       "      <td>0</td>\n",
       "      <td>0</td>\n",
       "      <td>0</td>\n",
       "      <td>0</td>\n",
       "      <td>1</td>\n",
       "    </tr>\n",
       "    <tr>\n",
       "      <th>4</th>\n",
       "      <td>1</td>\n",
       "      <td>1</td>\n",
       "      <td>1</td>\n",
       "      <td>0</td>\n",
       "      <td>1</td>\n",
       "    </tr>\n",
       "  </tbody>\n",
       "</table>\n",
       "</div>"
      ],
      "text/plain": [
       "   Cinsiyet_Kadin  Sigara_Hayir  Alkol_Hayir  FizikselAktivite_Pasif  \\\n",
       "0               1             1            1                       0   \n",
       "1               1             1            1                       0   \n",
       "2               1             1            1                       0   \n",
       "3               0             0            0                       0   \n",
       "4               1             1            1                       0   \n",
       "\n",
       "   KardiyoVasküler_Yok  \n",
       "0                    1  \n",
       "1                    0  \n",
       "2                    1  \n",
       "3                    1  \n",
       "4                    1  "
      ]
     },
     "execution_count": 16,
     "metadata": {},
     "output_type": "execute_result"
    }
   ],
   "source": [
    "#dummy tuzağına yakalandığımız için bu durumu ortadan bu şekilde kaldırmamız gerekiyor\n",
    "dms = pd.get_dummies(df[['Cinsiyet','Sigara', 'Alkol', 'FizikselAktivite','KardiyoVasküler']], drop_first=True)\n",
    "dms=dms.astype(int)\n",
    "dms.head()"
   ]
  },
  {
   "cell_type": "code",
   "execution_count": 17,
   "id": "a6e0d438-54af-46f7-a9a6-690fa6893915",
   "metadata": {
    "tags": []
   },
   "outputs": [],
   "source": [
    "#Hedef (bağımlı) değişkeni y 'ye atadık\n",
    "y = df[\"KardiyoVasküler\"]"
   ]
  },
  {
   "cell_type": "code",
   "execution_count": 18,
   "id": "aac9a989-20dc-46a9-ae66-3b74cf2280f1",
   "metadata": {
    "tags": []
   },
   "outputs": [
    {
     "data": {
      "text/plain": [
       "0        Yok\n",
       "1        Var\n",
       "2        Yok\n",
       "3        Yok\n",
       "4        Yok\n",
       "        ... \n",
       "69296    Yok\n",
       "69297    Var\n",
       "69298    Var\n",
       "69299    Var\n",
       "69300    Yok\n",
       "Name: KardiyoVasküler, Length: 69301, dtype: object"
      ]
     },
     "execution_count": 18,
     "metadata": {},
     "output_type": "execute_result"
    }
   ],
   "source": [
    "y"
   ]
  },
  {
   "cell_type": "code",
   "execution_count": 19,
   "id": "0d575bd0-a314-4e79-959d-d32f0bd5e84d",
   "metadata": {
    "tags": []
   },
   "outputs": [],
   "source": [
    "#Bağımsız değişkenleri X'e atadık\n",
    "X_ = df.drop(['Cinsiyet','Sigara', 'Alkol', 'FizikselAktivite','KardiyoVasküler'], axis = 1).astype(\"float64\",\"int64\")"
   ]
  },
  {
   "cell_type": "code",
   "execution_count": 20,
   "id": "eb30f05b-984e-410c-9ed7-3ce2bbac79f1",
   "metadata": {
    "tags": []
   },
   "outputs": [],
   "source": [
    "X_['Kolestrol'] = X_['Kolestrol'].astype('int64')\n",
    "X_['Yas'] = X_['Yas'].astype('int64')\n",
    "X_['Glikoz'] = X_['Glikoz'].astype('int64')"
   ]
  },
  {
   "cell_type": "code",
   "execution_count": 21,
   "id": "de9fc975-81c7-4c41-bef7-8871a837de8c",
   "metadata": {
    "tags": []
   },
   "outputs": [
    {
     "data": {
      "text/html": [
       "<div>\n",
       "<style scoped>\n",
       "    .dataframe tbody tr th:only-of-type {\n",
       "        vertical-align: middle;\n",
       "    }\n",
       "\n",
       "    .dataframe tbody tr th {\n",
       "        vertical-align: top;\n",
       "    }\n",
       "\n",
       "    .dataframe thead th {\n",
       "        text-align: right;\n",
       "    }\n",
       "</style>\n",
       "<table border=\"1\" class=\"dataframe\">\n",
       "  <thead>\n",
       "    <tr style=\"text-align: right;\">\n",
       "      <th></th>\n",
       "      <th>Yas</th>\n",
       "      <th>Boy</th>\n",
       "      <th>Agirlik</th>\n",
       "      <th>SistolikKanBasinci</th>\n",
       "      <th>DiyastolikKanBasinci</th>\n",
       "      <th>Kolestrol</th>\n",
       "      <th>Glikoz</th>\n",
       "      <th>VKI</th>\n",
       "    </tr>\n",
       "  </thead>\n",
       "  <tbody>\n",
       "    <tr>\n",
       "      <th>0</th>\n",
       "      <td>61</td>\n",
       "      <td>1.55</td>\n",
       "      <td>69.000000</td>\n",
       "      <td>130.0</td>\n",
       "      <td>80.0</td>\n",
       "      <td>1</td>\n",
       "      <td>2</td>\n",
       "      <td>28.720083</td>\n",
       "    </tr>\n",
       "    <tr>\n",
       "      <th>1</th>\n",
       "      <td>40</td>\n",
       "      <td>1.63</td>\n",
       "      <td>71.000000</td>\n",
       "      <td>110.0</td>\n",
       "      <td>70.0</td>\n",
       "      <td>1</td>\n",
       "      <td>1</td>\n",
       "      <td>26.722873</td>\n",
       "    </tr>\n",
       "    <tr>\n",
       "      <th>2</th>\n",
       "      <td>60</td>\n",
       "      <td>1.65</td>\n",
       "      <td>70.000000</td>\n",
       "      <td>120.0</td>\n",
       "      <td>80.0</td>\n",
       "      <td>1</td>\n",
       "      <td>1</td>\n",
       "      <td>25.711662</td>\n",
       "    </tr>\n",
       "    <tr>\n",
       "      <th>3</th>\n",
       "      <td>39</td>\n",
       "      <td>1.65</td>\n",
       "      <td>85.000000</td>\n",
       "      <td>120.0</td>\n",
       "      <td>80.0</td>\n",
       "      <td>1</td>\n",
       "      <td>1</td>\n",
       "      <td>31.221304</td>\n",
       "    </tr>\n",
       "    <tr>\n",
       "      <th>4</th>\n",
       "      <td>64</td>\n",
       "      <td>1.55</td>\n",
       "      <td>62.000000</td>\n",
       "      <td>120.0</td>\n",
       "      <td>80.0</td>\n",
       "      <td>1</td>\n",
       "      <td>1</td>\n",
       "      <td>25.806452</td>\n",
       "    </tr>\n",
       "    <tr>\n",
       "      <th>...</th>\n",
       "      <td>...</td>\n",
       "      <td>...</td>\n",
       "      <td>...</td>\n",
       "      <td>...</td>\n",
       "      <td>...</td>\n",
       "      <td>...</td>\n",
       "      <td>...</td>\n",
       "      <td>...</td>\n",
       "    </tr>\n",
       "    <tr>\n",
       "      <th>69296</th>\n",
       "      <td>52</td>\n",
       "      <td>1.68</td>\n",
       "      <td>76.000000</td>\n",
       "      <td>120.0</td>\n",
       "      <td>80.0</td>\n",
       "      <td>1</td>\n",
       "      <td>1</td>\n",
       "      <td>26.927438</td>\n",
       "    </tr>\n",
       "    <tr>\n",
       "      <th>69297</th>\n",
       "      <td>61</td>\n",
       "      <td>1.58</td>\n",
       "      <td>126.000000</td>\n",
       "      <td>140.0</td>\n",
       "      <td>90.0</td>\n",
       "      <td>2</td>\n",
       "      <td>2</td>\n",
       "      <td>50.472681</td>\n",
       "    </tr>\n",
       "    <tr>\n",
       "      <th>69298</th>\n",
       "      <td>52</td>\n",
       "      <td>1.83</td>\n",
       "      <td>105.000000</td>\n",
       "      <td>180.0</td>\n",
       "      <td>90.0</td>\n",
       "      <td>3</td>\n",
       "      <td>1</td>\n",
       "      <td>31.353579</td>\n",
       "    </tr>\n",
       "    <tr>\n",
       "      <th>69299</th>\n",
       "      <td>61</td>\n",
       "      <td>1.63</td>\n",
       "      <td>72.000000</td>\n",
       "      <td>135.0</td>\n",
       "      <td>80.0</td>\n",
       "      <td>1</td>\n",
       "      <td>2</td>\n",
       "      <td>27.099251</td>\n",
       "    </tr>\n",
       "    <tr>\n",
       "      <th>69300</th>\n",
       "      <td>56</td>\n",
       "      <td>1.70</td>\n",
       "      <td>73.473108</td>\n",
       "      <td>120.0</td>\n",
       "      <td>80.0</td>\n",
       "      <td>2</td>\n",
       "      <td>1</td>\n",
       "      <td>25.423221</td>\n",
       "    </tr>\n",
       "  </tbody>\n",
       "</table>\n",
       "<p>69301 rows × 8 columns</p>\n",
       "</div>"
      ],
      "text/plain": [
       "       Yas   Boy     Agirlik  SistolikKanBasinci  DiyastolikKanBasinci  \\\n",
       "0       61  1.55   69.000000               130.0                  80.0   \n",
       "1       40  1.63   71.000000               110.0                  70.0   \n",
       "2       60  1.65   70.000000               120.0                  80.0   \n",
       "3       39  1.65   85.000000               120.0                  80.0   \n",
       "4       64  1.55   62.000000               120.0                  80.0   \n",
       "...    ...   ...         ...                 ...                   ...   \n",
       "69296   52  1.68   76.000000               120.0                  80.0   \n",
       "69297   61  1.58  126.000000               140.0                  90.0   \n",
       "69298   52  1.83  105.000000               180.0                  90.0   \n",
       "69299   61  1.63   72.000000               135.0                  80.0   \n",
       "69300   56  1.70   73.473108               120.0                  80.0   \n",
       "\n",
       "       Kolestrol  Glikoz        VKI  \n",
       "0              1       2  28.720083  \n",
       "1              1       1  26.722873  \n",
       "2              1       1  25.711662  \n",
       "3              1       1  31.221304  \n",
       "4              1       1  25.806452  \n",
       "...          ...     ...        ...  \n",
       "69296          1       1  26.927438  \n",
       "69297          2       2  50.472681  \n",
       "69298          3       1  31.353579  \n",
       "69299          1       2  27.099251  \n",
       "69300          2       1  25.423221  \n",
       "\n",
       "[69301 rows x 8 columns]"
      ]
     },
     "execution_count": 21,
     "metadata": {},
     "output_type": "execute_result"
    }
   ],
   "source": [
    "X_"
   ]
  },
  {
   "cell_type": "code",
   "execution_count": 22,
   "id": "2ea0a639-b258-4242-8c92-40b805314d9c",
   "metadata": {
    "tags": []
   },
   "outputs": [
    {
     "name": "stdout",
     "output_type": "stream",
     "text": [
      "<class 'pandas.core.frame.DataFrame'>\n",
      "RangeIndex: 69301 entries, 0 to 69300\n",
      "Data columns (total 8 columns):\n",
      " #   Column                Non-Null Count  Dtype  \n",
      "---  ------                --------------  -----  \n",
      " 0   Yas                   69301 non-null  int64  \n",
      " 1   Boy                   69301 non-null  float64\n",
      " 2   Agirlik               69301 non-null  float64\n",
      " 3   SistolikKanBasinci    69301 non-null  float64\n",
      " 4   DiyastolikKanBasinci  69301 non-null  float64\n",
      " 5   Kolestrol             69301 non-null  int64  \n",
      " 6   Glikoz                69301 non-null  int64  \n",
      " 7   VKI                   69301 non-null  float64\n",
      "dtypes: float64(5), int64(3)\n",
      "memory usage: 4.2 MB\n"
     ]
    }
   ],
   "source": [
    "X_.info()"
   ]
  },
  {
   "cell_type": "code",
   "execution_count": 23,
   "id": "0bd4ad17-0e0c-40bb-9e4b-56081209aeaf",
   "metadata": {
    "tags": []
   },
   "outputs": [
    {
     "data": {
      "text/html": [
       "<div>\n",
       "<style scoped>\n",
       "    .dataframe tbody tr th:only-of-type {\n",
       "        vertical-align: middle;\n",
       "    }\n",
       "\n",
       "    .dataframe tbody tr th {\n",
       "        vertical-align: top;\n",
       "    }\n",
       "\n",
       "    .dataframe thead th {\n",
       "        text-align: right;\n",
       "    }\n",
       "</style>\n",
       "<table border=\"1\" class=\"dataframe\">\n",
       "  <thead>\n",
       "    <tr style=\"text-align: right;\">\n",
       "      <th></th>\n",
       "      <th>Yas</th>\n",
       "      <th>Boy</th>\n",
       "      <th>Agirlik</th>\n",
       "      <th>SistolikKanBasinci</th>\n",
       "      <th>DiyastolikKanBasinci</th>\n",
       "      <th>Kolestrol</th>\n",
       "      <th>Glikoz</th>\n",
       "      <th>VKI</th>\n",
       "      <th>Cinsiyet_Kadin</th>\n",
       "      <th>Sigara_Hayir</th>\n",
       "      <th>Alkol_Hayir</th>\n",
       "      <th>FizikselAktivite_Pasif</th>\n",
       "      <th>KardiyoVasküler_Yok</th>\n",
       "    </tr>\n",
       "  </thead>\n",
       "  <tbody>\n",
       "    <tr>\n",
       "      <th>0</th>\n",
       "      <td>61</td>\n",
       "      <td>1.55</td>\n",
       "      <td>69.0</td>\n",
       "      <td>130.0</td>\n",
       "      <td>80.0</td>\n",
       "      <td>1</td>\n",
       "      <td>2</td>\n",
       "      <td>28.720083</td>\n",
       "      <td>1</td>\n",
       "      <td>1</td>\n",
       "      <td>1</td>\n",
       "      <td>0</td>\n",
       "      <td>1</td>\n",
       "    </tr>\n",
       "    <tr>\n",
       "      <th>1</th>\n",
       "      <td>40</td>\n",
       "      <td>1.63</td>\n",
       "      <td>71.0</td>\n",
       "      <td>110.0</td>\n",
       "      <td>70.0</td>\n",
       "      <td>1</td>\n",
       "      <td>1</td>\n",
       "      <td>26.722873</td>\n",
       "      <td>1</td>\n",
       "      <td>1</td>\n",
       "      <td>1</td>\n",
       "      <td>0</td>\n",
       "      <td>0</td>\n",
       "    </tr>\n",
       "    <tr>\n",
       "      <th>2</th>\n",
       "      <td>60</td>\n",
       "      <td>1.65</td>\n",
       "      <td>70.0</td>\n",
       "      <td>120.0</td>\n",
       "      <td>80.0</td>\n",
       "      <td>1</td>\n",
       "      <td>1</td>\n",
       "      <td>25.711662</td>\n",
       "      <td>1</td>\n",
       "      <td>1</td>\n",
       "      <td>1</td>\n",
       "      <td>0</td>\n",
       "      <td>1</td>\n",
       "    </tr>\n",
       "    <tr>\n",
       "      <th>3</th>\n",
       "      <td>39</td>\n",
       "      <td>1.65</td>\n",
       "      <td>85.0</td>\n",
       "      <td>120.0</td>\n",
       "      <td>80.0</td>\n",
       "      <td>1</td>\n",
       "      <td>1</td>\n",
       "      <td>31.221304</td>\n",
       "      <td>0</td>\n",
       "      <td>0</td>\n",
       "      <td>0</td>\n",
       "      <td>0</td>\n",
       "      <td>1</td>\n",
       "    </tr>\n",
       "    <tr>\n",
       "      <th>4</th>\n",
       "      <td>64</td>\n",
       "      <td>1.55</td>\n",
       "      <td>62.0</td>\n",
       "      <td>120.0</td>\n",
       "      <td>80.0</td>\n",
       "      <td>1</td>\n",
       "      <td>1</td>\n",
       "      <td>25.806452</td>\n",
       "      <td>1</td>\n",
       "      <td>1</td>\n",
       "      <td>1</td>\n",
       "      <td>0</td>\n",
       "      <td>1</td>\n",
       "    </tr>\n",
       "  </tbody>\n",
       "</table>\n",
       "</div>"
      ],
      "text/plain": [
       "   Yas   Boy  Agirlik  SistolikKanBasinci  DiyastolikKanBasinci  Kolestrol  \\\n",
       "0   61  1.55     69.0               130.0                  80.0          1   \n",
       "1   40  1.63     71.0               110.0                  70.0          1   \n",
       "2   60  1.65     70.0               120.0                  80.0          1   \n",
       "3   39  1.65     85.0               120.0                  80.0          1   \n",
       "4   64  1.55     62.0               120.0                  80.0          1   \n",
       "\n",
       "   Glikoz        VKI  Cinsiyet_Kadin  Sigara_Hayir  Alkol_Hayir  \\\n",
       "0       2  28.720083               1             1            1   \n",
       "1       1  26.722873               1             1            1   \n",
       "2       1  25.711662               1             1            1   \n",
       "3       1  31.221304               0             0            0   \n",
       "4       1  25.806452               1             1            1   \n",
       "\n",
       "   FizikselAktivite_Pasif  KardiyoVasküler_Yok  \n",
       "0                       0                    1  \n",
       "1                       0                    0  \n",
       "2                       0                    1  \n",
       "3                       0                    1  \n",
       "4                       0                    1  "
      ]
     },
     "execution_count": 23,
     "metadata": {},
     "output_type": "execute_result"
    }
   ],
   "source": [
    "X = pd.concat([X_, dms], axis = 1)#sayısal bağımlı değişken ile düzenlediğimiz kategorik değişkenleri birleştirip X'e tüm bağımsız değişkenleri atmış oluyoruz\n",
    "X.head()"
   ]
  },
  {
   "cell_type": "code",
   "execution_count": 24,
   "id": "7e1c1675-57fc-475b-9466-93973a5b1e8c",
   "metadata": {
    "tags": []
   },
   "outputs": [],
   "source": [
    "#bağımlı değişkeni y ye atayıp bağımsız değişkenleri içeren X değişkeninden bağımlı değikeni siliyoruz\n",
    "y = X[\"KardiyoVasküler_Yok\"]\n",
    "X = X.drop([\"KardiyoVasküler_Yok\"], axis=1)"
   ]
  },
  {
   "cell_type": "code",
   "execution_count": 25,
   "id": "6e590609-2d8e-4275-87d9-bee646cc0460",
   "metadata": {
    "tags": []
   },
   "outputs": [
    {
     "data": {
      "text/html": [
       "<div>\n",
       "<style scoped>\n",
       "    .dataframe tbody tr th:only-of-type {\n",
       "        vertical-align: middle;\n",
       "    }\n",
       "\n",
       "    .dataframe tbody tr th {\n",
       "        vertical-align: top;\n",
       "    }\n",
       "\n",
       "    .dataframe thead th {\n",
       "        text-align: right;\n",
       "    }\n",
       "</style>\n",
       "<table border=\"1\" class=\"dataframe\">\n",
       "  <thead>\n",
       "    <tr style=\"text-align: right;\">\n",
       "      <th></th>\n",
       "      <th>Yas</th>\n",
       "      <th>Boy</th>\n",
       "      <th>Agirlik</th>\n",
       "      <th>SistolikKanBasinci</th>\n",
       "      <th>DiyastolikKanBasinci</th>\n",
       "      <th>Kolestrol</th>\n",
       "      <th>Glikoz</th>\n",
       "      <th>VKI</th>\n",
       "      <th>Cinsiyet_Kadin</th>\n",
       "      <th>Sigara_Hayir</th>\n",
       "      <th>Alkol_Hayir</th>\n",
       "      <th>FizikselAktivite_Pasif</th>\n",
       "    </tr>\n",
       "  </thead>\n",
       "  <tbody>\n",
       "    <tr>\n",
       "      <th>0</th>\n",
       "      <td>61</td>\n",
       "      <td>1.55</td>\n",
       "      <td>69.000000</td>\n",
       "      <td>130.0</td>\n",
       "      <td>80.0</td>\n",
       "      <td>1</td>\n",
       "      <td>2</td>\n",
       "      <td>28.720083</td>\n",
       "      <td>1</td>\n",
       "      <td>1</td>\n",
       "      <td>1</td>\n",
       "      <td>0</td>\n",
       "    </tr>\n",
       "    <tr>\n",
       "      <th>1</th>\n",
       "      <td>40</td>\n",
       "      <td>1.63</td>\n",
       "      <td>71.000000</td>\n",
       "      <td>110.0</td>\n",
       "      <td>70.0</td>\n",
       "      <td>1</td>\n",
       "      <td>1</td>\n",
       "      <td>26.722873</td>\n",
       "      <td>1</td>\n",
       "      <td>1</td>\n",
       "      <td>1</td>\n",
       "      <td>0</td>\n",
       "    </tr>\n",
       "    <tr>\n",
       "      <th>2</th>\n",
       "      <td>60</td>\n",
       "      <td>1.65</td>\n",
       "      <td>70.000000</td>\n",
       "      <td>120.0</td>\n",
       "      <td>80.0</td>\n",
       "      <td>1</td>\n",
       "      <td>1</td>\n",
       "      <td>25.711662</td>\n",
       "      <td>1</td>\n",
       "      <td>1</td>\n",
       "      <td>1</td>\n",
       "      <td>0</td>\n",
       "    </tr>\n",
       "    <tr>\n",
       "      <th>3</th>\n",
       "      <td>39</td>\n",
       "      <td>1.65</td>\n",
       "      <td>85.000000</td>\n",
       "      <td>120.0</td>\n",
       "      <td>80.0</td>\n",
       "      <td>1</td>\n",
       "      <td>1</td>\n",
       "      <td>31.221304</td>\n",
       "      <td>0</td>\n",
       "      <td>0</td>\n",
       "      <td>0</td>\n",
       "      <td>0</td>\n",
       "    </tr>\n",
       "    <tr>\n",
       "      <th>4</th>\n",
       "      <td>64</td>\n",
       "      <td>1.55</td>\n",
       "      <td>62.000000</td>\n",
       "      <td>120.0</td>\n",
       "      <td>80.0</td>\n",
       "      <td>1</td>\n",
       "      <td>1</td>\n",
       "      <td>25.806452</td>\n",
       "      <td>1</td>\n",
       "      <td>1</td>\n",
       "      <td>1</td>\n",
       "      <td>0</td>\n",
       "    </tr>\n",
       "    <tr>\n",
       "      <th>...</th>\n",
       "      <td>...</td>\n",
       "      <td>...</td>\n",
       "      <td>...</td>\n",
       "      <td>...</td>\n",
       "      <td>...</td>\n",
       "      <td>...</td>\n",
       "      <td>...</td>\n",
       "      <td>...</td>\n",
       "      <td>...</td>\n",
       "      <td>...</td>\n",
       "      <td>...</td>\n",
       "      <td>...</td>\n",
       "    </tr>\n",
       "    <tr>\n",
       "      <th>69296</th>\n",
       "      <td>52</td>\n",
       "      <td>1.68</td>\n",
       "      <td>76.000000</td>\n",
       "      <td>120.0</td>\n",
       "      <td>80.0</td>\n",
       "      <td>1</td>\n",
       "      <td>1</td>\n",
       "      <td>26.927438</td>\n",
       "      <td>0</td>\n",
       "      <td>0</td>\n",
       "      <td>1</td>\n",
       "      <td>0</td>\n",
       "    </tr>\n",
       "    <tr>\n",
       "      <th>69297</th>\n",
       "      <td>61</td>\n",
       "      <td>1.58</td>\n",
       "      <td>126.000000</td>\n",
       "      <td>140.0</td>\n",
       "      <td>90.0</td>\n",
       "      <td>2</td>\n",
       "      <td>2</td>\n",
       "      <td>50.472681</td>\n",
       "      <td>1</td>\n",
       "      <td>1</td>\n",
       "      <td>1</td>\n",
       "      <td>0</td>\n",
       "    </tr>\n",
       "    <tr>\n",
       "      <th>69298</th>\n",
       "      <td>52</td>\n",
       "      <td>1.83</td>\n",
       "      <td>105.000000</td>\n",
       "      <td>180.0</td>\n",
       "      <td>90.0</td>\n",
       "      <td>3</td>\n",
       "      <td>1</td>\n",
       "      <td>31.353579</td>\n",
       "      <td>0</td>\n",
       "      <td>1</td>\n",
       "      <td>0</td>\n",
       "      <td>1</td>\n",
       "    </tr>\n",
       "    <tr>\n",
       "      <th>69299</th>\n",
       "      <td>61</td>\n",
       "      <td>1.63</td>\n",
       "      <td>72.000000</td>\n",
       "      <td>135.0</td>\n",
       "      <td>80.0</td>\n",
       "      <td>1</td>\n",
       "      <td>2</td>\n",
       "      <td>27.099251</td>\n",
       "      <td>1</td>\n",
       "      <td>1</td>\n",
       "      <td>1</td>\n",
       "      <td>1</td>\n",
       "    </tr>\n",
       "    <tr>\n",
       "      <th>69300</th>\n",
       "      <td>56</td>\n",
       "      <td>1.70</td>\n",
       "      <td>73.473108</td>\n",
       "      <td>120.0</td>\n",
       "      <td>80.0</td>\n",
       "      <td>2</td>\n",
       "      <td>1</td>\n",
       "      <td>25.423221</td>\n",
       "      <td>1</td>\n",
       "      <td>1</td>\n",
       "      <td>1</td>\n",
       "      <td>0</td>\n",
       "    </tr>\n",
       "  </tbody>\n",
       "</table>\n",
       "<p>69301 rows × 12 columns</p>\n",
       "</div>"
      ],
      "text/plain": [
       "       Yas   Boy     Agirlik  SistolikKanBasinci  DiyastolikKanBasinci  \\\n",
       "0       61  1.55   69.000000               130.0                  80.0   \n",
       "1       40  1.63   71.000000               110.0                  70.0   \n",
       "2       60  1.65   70.000000               120.0                  80.0   \n",
       "3       39  1.65   85.000000               120.0                  80.0   \n",
       "4       64  1.55   62.000000               120.0                  80.0   \n",
       "...    ...   ...         ...                 ...                   ...   \n",
       "69296   52  1.68   76.000000               120.0                  80.0   \n",
       "69297   61  1.58  126.000000               140.0                  90.0   \n",
       "69298   52  1.83  105.000000               180.0                  90.0   \n",
       "69299   61  1.63   72.000000               135.0                  80.0   \n",
       "69300   56  1.70   73.473108               120.0                  80.0   \n",
       "\n",
       "       Kolestrol  Glikoz        VKI  Cinsiyet_Kadin  Sigara_Hayir  \\\n",
       "0              1       2  28.720083               1             1   \n",
       "1              1       1  26.722873               1             1   \n",
       "2              1       1  25.711662               1             1   \n",
       "3              1       1  31.221304               0             0   \n",
       "4              1       1  25.806452               1             1   \n",
       "...          ...     ...        ...             ...           ...   \n",
       "69296          1       1  26.927438               0             0   \n",
       "69297          2       2  50.472681               1             1   \n",
       "69298          3       1  31.353579               0             1   \n",
       "69299          1       2  27.099251               1             1   \n",
       "69300          2       1  25.423221               1             1   \n",
       "\n",
       "       Alkol_Hayir  FizikselAktivite_Pasif  \n",
       "0                1                       0  \n",
       "1                1                       0  \n",
       "2                1                       0  \n",
       "3                0                       0  \n",
       "4                1                       0  \n",
       "...            ...                     ...  \n",
       "69296            1                       0  \n",
       "69297            1                       0  \n",
       "69298            0                       1  \n",
       "69299            1                       1  \n",
       "69300            1                       0  \n",
       "\n",
       "[69301 rows x 12 columns]"
      ]
     },
     "execution_count": 25,
     "metadata": {},
     "output_type": "execute_result"
    }
   ],
   "source": [
    "X"
   ]
  },
  {
   "cell_type": "markdown",
   "id": "643ea307-6c57-4d33-8522-5225a45e60cb",
   "metadata": {},
   "source": [
    "# KNN"
   ]
  },
  {
   "cell_type": "markdown",
   "id": "d96a5590-fe41-4e9d-bd5f-96c92b36a54a",
   "metadata": {},
   "source": [
    "## Model & Tahmin"
   ]
  },
  {
   "cell_type": "code",
   "execution_count": 26,
   "id": "f6a3a79b-50b2-45d9-b2cd-b2e653fb1010",
   "metadata": {
    "tags": []
   },
   "outputs": [],
   "source": [
    "X_train, X_test, y_train, y_test = train_test_split(X, y, \n",
    "                                                    test_size = 0.30, \n",
    "                                                    random_state = 42)"
   ]
  },
  {
   "cell_type": "code",
   "execution_count": 27,
   "id": "19c1137e-535c-430a-aa9c-de47ecd0c21f",
   "metadata": {
    "tags": []
   },
   "outputs": [
    {
     "data": {
      "text/html": [
       "<style>#sk-container-id-1 {color: black;}#sk-container-id-1 pre{padding: 0;}#sk-container-id-1 div.sk-toggleable {background-color: white;}#sk-container-id-1 label.sk-toggleable__label {cursor: pointer;display: block;width: 100%;margin-bottom: 0;padding: 0.3em;box-sizing: border-box;text-align: center;}#sk-container-id-1 label.sk-toggleable__label-arrow:before {content: \"▸\";float: left;margin-right: 0.25em;color: #696969;}#sk-container-id-1 label.sk-toggleable__label-arrow:hover:before {color: black;}#sk-container-id-1 div.sk-estimator:hover label.sk-toggleable__label-arrow:before {color: black;}#sk-container-id-1 div.sk-toggleable__content {max-height: 0;max-width: 0;overflow: hidden;text-align: left;background-color: #f0f8ff;}#sk-container-id-1 div.sk-toggleable__content pre {margin: 0.2em;color: black;border-radius: 0.25em;background-color: #f0f8ff;}#sk-container-id-1 input.sk-toggleable__control:checked~div.sk-toggleable__content {max-height: 200px;max-width: 100%;overflow: auto;}#sk-container-id-1 input.sk-toggleable__control:checked~label.sk-toggleable__label-arrow:before {content: \"▾\";}#sk-container-id-1 div.sk-estimator input.sk-toggleable__control:checked~label.sk-toggleable__label {background-color: #d4ebff;}#sk-container-id-1 div.sk-label input.sk-toggleable__control:checked~label.sk-toggleable__label {background-color: #d4ebff;}#sk-container-id-1 input.sk-hidden--visually {border: 0;clip: rect(1px 1px 1px 1px);clip: rect(1px, 1px, 1px, 1px);height: 1px;margin: -1px;overflow: hidden;padding: 0;position: absolute;width: 1px;}#sk-container-id-1 div.sk-estimator {font-family: monospace;background-color: #f0f8ff;border: 1px dotted black;border-radius: 0.25em;box-sizing: border-box;margin-bottom: 0.5em;}#sk-container-id-1 div.sk-estimator:hover {background-color: #d4ebff;}#sk-container-id-1 div.sk-parallel-item::after {content: \"\";width: 100%;border-bottom: 1px solid gray;flex-grow: 1;}#sk-container-id-1 div.sk-label:hover label.sk-toggleable__label {background-color: #d4ebff;}#sk-container-id-1 div.sk-serial::before {content: \"\";position: absolute;border-left: 1px solid gray;box-sizing: border-box;top: 0;bottom: 0;left: 50%;z-index: 0;}#sk-container-id-1 div.sk-serial {display: flex;flex-direction: column;align-items: center;background-color: white;padding-right: 0.2em;padding-left: 0.2em;position: relative;}#sk-container-id-1 div.sk-item {position: relative;z-index: 1;}#sk-container-id-1 div.sk-parallel {display: flex;align-items: stretch;justify-content: center;background-color: white;position: relative;}#sk-container-id-1 div.sk-item::before, #sk-container-id-1 div.sk-parallel-item::before {content: \"\";position: absolute;border-left: 1px solid gray;box-sizing: border-box;top: 0;bottom: 0;left: 50%;z-index: -1;}#sk-container-id-1 div.sk-parallel-item {display: flex;flex-direction: column;z-index: 1;position: relative;background-color: white;}#sk-container-id-1 div.sk-parallel-item:first-child::after {align-self: flex-end;width: 50%;}#sk-container-id-1 div.sk-parallel-item:last-child::after {align-self: flex-start;width: 50%;}#sk-container-id-1 div.sk-parallel-item:only-child::after {width: 0;}#sk-container-id-1 div.sk-dashed-wrapped {border: 1px dashed gray;margin: 0 0.4em 0.5em 0.4em;box-sizing: border-box;padding-bottom: 0.4em;background-color: white;}#sk-container-id-1 div.sk-label label {font-family: monospace;font-weight: bold;display: inline-block;line-height: 1.2em;}#sk-container-id-1 div.sk-label-container {text-align: center;}#sk-container-id-1 div.sk-container {/* jupyter's `normalize.less` sets `[hidden] { display: none; }` but bootstrap.min.css set `[hidden] { display: none !important; }` so we also need the `!important` here to be able to override the default hidden behavior on the sphinx rendered scikit-learn.org. See: https://github.com/scikit-learn/scikit-learn/issues/21755 */display: inline-block !important;position: relative;}#sk-container-id-1 div.sk-text-repr-fallback {display: none;}</style><div id=\"sk-container-id-1\" class=\"sk-top-container\"><div class=\"sk-text-repr-fallback\"><pre>KNeighborsClassifier()</pre><b>In a Jupyter environment, please rerun this cell to show the HTML representation or trust the notebook. <br />On GitHub, the HTML representation is unable to render, please try loading this page with nbviewer.org.</b></div><div class=\"sk-container\" hidden><div class=\"sk-item\"><div class=\"sk-estimator sk-toggleable\"><input class=\"sk-toggleable__control sk-hidden--visually\" id=\"sk-estimator-id-1\" type=\"checkbox\" checked><label for=\"sk-estimator-id-1\" class=\"sk-toggleable__label sk-toggleable__label-arrow\">KNeighborsClassifier</label><div class=\"sk-toggleable__content\"><pre>KNeighborsClassifier()</pre></div></div></div></div></div>"
      ],
      "text/plain": [
       "KNeighborsClassifier()"
      ]
     },
     "execution_count": 27,
     "metadata": {},
     "output_type": "execute_result"
    }
   ],
   "source": [
    "knn = KNeighborsClassifier()\n",
    "knn_model = knn.fit(X_train, y_train)\n",
    "knn_model"
   ]
  },
  {
   "cell_type": "code",
   "execution_count": 28,
   "id": "27d06a20-87e5-41bb-979d-ac0d169c6d82",
   "metadata": {
    "tags": []
   },
   "outputs": [],
   "source": [
    "y_pred = knn_model.predict(X_test)"
   ]
  },
  {
   "cell_type": "code",
   "execution_count": 29,
   "id": "17692eb0-4966-4e2c-88e7-1957cf6f6e7c",
   "metadata": {
    "tags": []
   },
   "outputs": [
    {
     "data": {
      "text/plain": [
       "0.6936655283536145"
      ]
     },
     "execution_count": 29,
     "metadata": {},
     "output_type": "execute_result"
    }
   ],
   "source": [
    "accuracy_score(y_test, y_pred)"
   ]
  },
  {
   "cell_type": "code",
   "execution_count": 30,
   "id": "5ace8781-d346-4ec6-a8ea-bac3c57217ee",
   "metadata": {
    "tags": []
   },
   "outputs": [
    {
     "name": "stdout",
     "output_type": "stream",
     "text": [
      "              precision    recall  f1-score   support\n",
      "\n",
      "           0       0.70      0.67      0.69     10419\n",
      "           1       0.68      0.71      0.70     10372\n",
      "\n",
      "    accuracy                           0.69     20791\n",
      "   macro avg       0.69      0.69      0.69     20791\n",
      "weighted avg       0.69      0.69      0.69     20791\n",
      "\n"
     ]
    }
   ],
   "source": [
    "print(classification_report(y_test, y_pred))"
   ]
  },
  {
   "cell_type": "markdown",
   "id": "8cb79e5a-e23a-48d2-a2a6-5ccff9cb1765",
   "metadata": {
    "tags": []
   },
   "source": [
    "## Model Tuning"
   ]
  },
  {
   "cell_type": "code",
   "execution_count": 31,
   "id": "dd61c369-40bf-47e0-9120-ae74709bea5a",
   "metadata": {
    "tags": []
   },
   "outputs": [
    {
     "data": {
      "text/plain": [
       "{'algorithm': 'auto',\n",
       " 'leaf_size': 30,\n",
       " 'metric': 'minkowski',\n",
       " 'metric_params': None,\n",
       " 'n_jobs': None,\n",
       " 'n_neighbors': 5,\n",
       " 'p': 2,\n",
       " 'weights': 'uniform'}"
      ]
     },
     "execution_count": 31,
     "metadata": {},
     "output_type": "execute_result"
    }
   ],
   "source": [
    "knn_model.get_params()"
   ]
  },
  {
   "cell_type": "code",
   "execution_count": 32,
   "id": "a3432cfa-6c2b-4cd2-b7b6-0c220faa5486",
   "metadata": {
    "tags": []
   },
   "outputs": [],
   "source": [
    "knn_params = {\"n_neighbors\": np.arange(1,50)}"
   ]
  },
  {
   "cell_type": "code",
   "execution_count": 34,
   "id": "3c4725e5-03a2-402b-8a59-6e9dd9f5eea6",
   "metadata": {
    "tags": []
   },
   "outputs": [],
   "source": [
    "knn = KNeighborsClassifier()\n",
    "knn_cv = GridSearchCV(knn, knn_params, cv=5).fit(X_train, y_train)"
   ]
  },
  {
   "cell_type": "code",
   "execution_count": 35,
   "id": "c86ca96c-5138-416f-a3ac-08e00f0e8acd",
   "metadata": {
    "tags": []
   },
   "outputs": [
    {
     "name": "stdout",
     "output_type": "stream",
     "text": [
      "En iyi parametreler: {'n_neighbors': 37}\n"
     ]
    }
   ],
   "source": [
    "print(\"En iyi parametreler: \" + str(knn_cv.best_params_))"
   ]
  },
  {
   "cell_type": "code",
   "execution_count": 36,
   "id": "05a77697-5fd0-41ef-9e8e-c257212ffab6",
   "metadata": {
    "tags": []
   },
   "outputs": [],
   "source": [
    "knn = KNeighborsClassifier(37)\n",
    "knn_tuned = knn.fit(X_train, y_train)"
   ]
  },
  {
   "cell_type": "code",
   "execution_count": 37,
   "id": "d95831be-4ae3-46db-9599-fcda75266f70",
   "metadata": {
    "tags": []
   },
   "outputs": [],
   "source": [
    "y_pred = knn_tuned.predict(X_test)"
   ]
  },
  {
   "cell_type": "code",
   "execution_count": 38,
   "id": "bd7eccb0-ba47-4c6b-aea7-b0ca5d46f263",
   "metadata": {
    "tags": []
   },
   "outputs": [
    {
     "data": {
      "text/plain": [
       "0.7183877639363186"
      ]
     },
     "execution_count": 38,
     "metadata": {},
     "output_type": "execute_result"
    }
   ],
   "source": [
    "accuracy_score(y_test, y_pred)"
   ]
  },
  {
   "cell_type": "code",
   "execution_count": 39,
   "id": "670faa19-3496-4c7c-b8a9-e4658184f5c6",
   "metadata": {
    "tags": []
   },
   "outputs": [
    {
     "name": "stdout",
     "output_type": "stream",
     "text": [
      "              precision    recall  f1-score   support\n",
      "\n",
      "           0       0.74      0.67      0.70     10419\n",
      "           1       0.70      0.77      0.73     10372\n",
      "\n",
      "    accuracy                           0.72     20791\n",
      "   macro avg       0.72      0.72      0.72     20791\n",
      "weighted avg       0.72      0.72      0.72     20791\n",
      "\n"
     ]
    }
   ],
   "source": [
    "print(classification_report(y_test, y_pred))"
   ]
  },
  {
   "cell_type": "markdown",
   "id": "0ea9dc03-7bc1-4d4d-9c4c-de98fa9e8277",
   "metadata": {},
   "source": [
    "# Yapay Sinir Ağları"
   ]
  },
  {
   "cell_type": "markdown",
   "id": "08325926-910b-42c5-9f35-274da4989541",
   "metadata": {},
   "source": [
    "## Model & Tahmin\n"
   ]
  },
  {
   "cell_type": "code",
   "execution_count": 40,
   "id": "7c8d19fd-5c51-405f-bed8-17b9f6cd4a3c",
   "metadata": {
    "tags": []
   },
   "outputs": [],
   "source": [
    "X_train, X_test, y_train, y_test = train_test_split(X, y, \n",
    "                                                    test_size=0.30, \n",
    "                                                    random_state=42)"
   ]
  },
  {
   "cell_type": "code",
   "execution_count": 41,
   "id": "e6e9adfc-a517-476c-ae7a-d3fb2dda39aa",
   "metadata": {
    "tags": []
   },
   "outputs": [],
   "source": [
    "#Yapay sinir ağları değişkenlerin ölçekleri ve birbirlerinden farklılıklarından etkilenir, bu nedenle standartlaştırma işlemi yapıyoruz."
   ]
  },
  {
   "cell_type": "code",
   "execution_count": 42,
   "id": "600077c0-4f71-4b2e-a75d-713296e7bfe0",
   "metadata": {
    "tags": []
   },
   "outputs": [],
   "source": [
    "from sklearn.preprocessing import StandardScaler  "
   ]
  },
  {
   "cell_type": "code",
   "execution_count": 43,
   "id": "3d3fb6b5-5534-4247-b347-627367e488b6",
   "metadata": {
    "tags": []
   },
   "outputs": [],
   "source": [
    "scaler = StandardScaler()"
   ]
  },
  {
   "cell_type": "code",
   "execution_count": 44,
   "id": "3f97b581-edba-4cad-bb99-c00073175d20",
   "metadata": {
    "tags": []
   },
   "outputs": [],
   "source": [
    "scaler.fit(X_train)\n",
    "X_train_scaled = scaler.transform(X_train)\n",
    "X_test_scaled = scaler.transform(X_test)"
   ]
  },
  {
   "cell_type": "code",
   "execution_count": 45,
   "id": "5143002f-a169-4818-8c0e-b457a75f29a1",
   "metadata": {
    "tags": []
   },
   "outputs": [],
   "source": [
    "from sklearn.neural_network import MLPClassifier"
   ]
  },
  {
   "cell_type": "code",
   "execution_count": 46,
   "id": "6cd93817-0ecb-448e-bac2-b65c5aabafeb",
   "metadata": {
    "tags": []
   },
   "outputs": [],
   "source": [
    "mlpc = MLPClassifier().fit(X_train_scaled, y_train)"
   ]
  },
  {
   "cell_type": "code",
   "execution_count": 47,
   "id": "4371899f-d565-4d43-aab8-26c3fbd34115",
   "metadata": {
    "tags": []
   },
   "outputs": [
    {
     "data": {
      "text/plain": [
       "0.7326246933769419"
      ]
     },
     "execution_count": 47,
     "metadata": {},
     "output_type": "execute_result"
    }
   ],
   "source": [
    "y_pred = mlpc.predict(X_test_scaled)\n",
    "accuracy_score(y_test, y_pred)"
   ]
  },
  {
   "cell_type": "code",
   "execution_count": 48,
   "id": "320ce9d9-f7e2-4c7f-a51d-92af8edd6c5f",
   "metadata": {
    "tags": []
   },
   "outputs": [
    {
     "name": "stdout",
     "output_type": "stream",
     "text": [
      "              precision    recall  f1-score   support\n",
      "\n",
      "           0       0.75      0.70      0.72     10419\n",
      "           1       0.72      0.77      0.74     10372\n",
      "\n",
      "    accuracy                           0.73     20791\n",
      "   macro avg       0.73      0.73      0.73     20791\n",
      "weighted avg       0.73      0.73      0.73     20791\n",
      "\n"
     ]
    }
   ],
   "source": [
    "print(classification_report(y_test, y_pred))"
   ]
  },
  {
   "cell_type": "markdown",
   "id": "0a222957-d086-49ea-9689-ecb12db78e8a",
   "metadata": {},
   "source": [
    "## Model Tuning"
   ]
  },
  {
   "cell_type": "code",
   "execution_count": 49,
   "id": "f701c178-1385-42a0-89c3-cc601e535536",
   "metadata": {
    "tags": []
   },
   "outputs": [
    {
     "data": {
      "text/plain": [
       "{'activation': 'relu',\n",
       " 'alpha': 0.0001,\n",
       " 'batch_size': 'auto',\n",
       " 'beta_1': 0.9,\n",
       " 'beta_2': 0.999,\n",
       " 'early_stopping': False,\n",
       " 'epsilon': 1e-08,\n",
       " 'hidden_layer_sizes': (100,),\n",
       " 'learning_rate': 'constant',\n",
       " 'learning_rate_init': 0.001,\n",
       " 'max_fun': 15000,\n",
       " 'max_iter': 200,\n",
       " 'momentum': 0.9,\n",
       " 'n_iter_no_change': 10,\n",
       " 'nesterovs_momentum': True,\n",
       " 'power_t': 0.5,\n",
       " 'random_state': None,\n",
       " 'shuffle': True,\n",
       " 'solver': 'adam',\n",
       " 'tol': 0.0001,\n",
       " 'validation_fraction': 0.1,\n",
       " 'verbose': False,\n",
       " 'warm_start': False}"
      ]
     },
     "execution_count": 49,
     "metadata": {},
     "output_type": "execute_result"
    }
   ],
   "source": [
    "mlpc.get_params()"
   ]
  },
  {
   "cell_type": "code",
   "execution_count": 51,
   "id": "3ce8b129-0888-45b6-9ba5-7efc753db95e",
   "metadata": {
    "tags": []
   },
   "outputs": [],
   "source": [
    "mlpc_params = {\"alpha\": [0.1, 0.01, 0.02, 0.005, 0.0001,0.00001],\n",
    "              \"hidden_layer_sizes\": [(10,10,10),\n",
    "                                     (100,100,100),\n",
    "                                     (100,100),\n",
    "                                     (3,5), \n",
    "                                     (5, 3)],\n",
    "              \"max_iter\": [-1,10,100],\n",
    "              \"solver\" : [\"lbfgs\",\"adam\",\"sgd\"],\n",
    "              \"activation\": [\"relu\",\"logistic\"]}\n",
    "#solver: ağırlık optimizasyon yöntemi. Büyük veri setlerinde daha çok kabul edilen ağırlık optimizasyon yöntemidir. Bizim elimizdeki veri çok karmaşık ve büyük değilse belki farklı bir ağırlık optimizasyon yöntemi bizim için daha iyidir.\n",
    "#hidden_layer_sizes (gizli katman) kaç katmandan ve nörondan oluşacak bilgisini verir. Her katman için nöron sayısını girerek kaç katmnadan oluşacağını da bildirmiş oluruz.\n",
    "#activation fonksiyonu ön tanımlı değeri relu dur biz bir de logistic (sigmoid) fonksiyonunu deneyelim\n",
    "#alpha; düzenleştirme parametresidir. Ön tanımlı değeri 0.0001 miş"
   ]
  },
  {
   "cell_type": "code",
   "execution_count": 52,
   "id": "ce87a756-7d06-4136-a0c6-4398923dc301",
   "metadata": {
    "tags": []
   },
   "outputs": [
    {
     "name": "stdout",
     "output_type": "stream",
     "text": [
      "Fitting 5 folds for each of 540 candidates, totalling 2700 fits\n"
     ]
    }
   ],
   "source": [
    "mlpc = MLPClassifier()\n",
    "mlpc_cv_model = GridSearchCV(mlpc, mlpc_params, \n",
    "                         cv = 5, \n",
    "                         n_jobs = -1,\n",
    "                         verbose = 2).fit(X_train_scaled, y_train)"
   ]
  },
  {
   "cell_type": "code",
   "execution_count": 53,
   "id": "3d1355c1-82f1-4129-89e2-057e2a843a9f",
   "metadata": {
    "tags": []
   },
   "outputs": [
    {
     "name": "stdout",
     "output_type": "stream",
     "text": [
      "En iyi parametreler: {'activation': 'relu', 'alpha': 0.02, 'hidden_layer_sizes': (10, 10, 10), 'max_iter': 100, 'solver': 'lbfgs'}\n"
     ]
    }
   ],
   "source": [
    "print(\"En iyi parametreler: \" + str(mlpc_cv_model.best_params_))"
   ]
  },
  {
   "cell_type": "code",
   "execution_count": 56,
   "id": "b39fdc14-a0b5-4111-a3e4-5a66d36650c9",
   "metadata": {},
   "outputs": [],
   "source": [
    "mlpc_tuned = MLPClassifier(activation = \"relu\", \n",
    "                           alpha = 0.02, \n",
    "                           hidden_layer_sizes = (10, 10, 10),\n",
    "                           max_iter=100,\n",
    "                          solver = \"lbfgs\")"
   ]
  },
  {
   "cell_type": "code",
   "execution_count": 57,
   "id": "92bffd6a-13f2-4b61-b461-b4edc130d0d9",
   "metadata": {},
   "outputs": [
    {
     "data": {
      "text/html": [
       "<style>#sk-container-id-3 {color: black;}#sk-container-id-3 pre{padding: 0;}#sk-container-id-3 div.sk-toggleable {background-color: white;}#sk-container-id-3 label.sk-toggleable__label {cursor: pointer;display: block;width: 100%;margin-bottom: 0;padding: 0.3em;box-sizing: border-box;text-align: center;}#sk-container-id-3 label.sk-toggleable__label-arrow:before {content: \"▸\";float: left;margin-right: 0.25em;color: #696969;}#sk-container-id-3 label.sk-toggleable__label-arrow:hover:before {color: black;}#sk-container-id-3 div.sk-estimator:hover label.sk-toggleable__label-arrow:before {color: black;}#sk-container-id-3 div.sk-toggleable__content {max-height: 0;max-width: 0;overflow: hidden;text-align: left;background-color: #f0f8ff;}#sk-container-id-3 div.sk-toggleable__content pre {margin: 0.2em;color: black;border-radius: 0.25em;background-color: #f0f8ff;}#sk-container-id-3 input.sk-toggleable__control:checked~div.sk-toggleable__content {max-height: 200px;max-width: 100%;overflow: auto;}#sk-container-id-3 input.sk-toggleable__control:checked~label.sk-toggleable__label-arrow:before {content: \"▾\";}#sk-container-id-3 div.sk-estimator input.sk-toggleable__control:checked~label.sk-toggleable__label {background-color: #d4ebff;}#sk-container-id-3 div.sk-label input.sk-toggleable__control:checked~label.sk-toggleable__label {background-color: #d4ebff;}#sk-container-id-3 input.sk-hidden--visually {border: 0;clip: rect(1px 1px 1px 1px);clip: rect(1px, 1px, 1px, 1px);height: 1px;margin: -1px;overflow: hidden;padding: 0;position: absolute;width: 1px;}#sk-container-id-3 div.sk-estimator {font-family: monospace;background-color: #f0f8ff;border: 1px dotted black;border-radius: 0.25em;box-sizing: border-box;margin-bottom: 0.5em;}#sk-container-id-3 div.sk-estimator:hover {background-color: #d4ebff;}#sk-container-id-3 div.sk-parallel-item::after {content: \"\";width: 100%;border-bottom: 1px solid gray;flex-grow: 1;}#sk-container-id-3 div.sk-label:hover label.sk-toggleable__label {background-color: #d4ebff;}#sk-container-id-3 div.sk-serial::before {content: \"\";position: absolute;border-left: 1px solid gray;box-sizing: border-box;top: 0;bottom: 0;left: 50%;z-index: 0;}#sk-container-id-3 div.sk-serial {display: flex;flex-direction: column;align-items: center;background-color: white;padding-right: 0.2em;padding-left: 0.2em;position: relative;}#sk-container-id-3 div.sk-item {position: relative;z-index: 1;}#sk-container-id-3 div.sk-parallel {display: flex;align-items: stretch;justify-content: center;background-color: white;position: relative;}#sk-container-id-3 div.sk-item::before, #sk-container-id-3 div.sk-parallel-item::before {content: \"\";position: absolute;border-left: 1px solid gray;box-sizing: border-box;top: 0;bottom: 0;left: 50%;z-index: -1;}#sk-container-id-3 div.sk-parallel-item {display: flex;flex-direction: column;z-index: 1;position: relative;background-color: white;}#sk-container-id-3 div.sk-parallel-item:first-child::after {align-self: flex-end;width: 50%;}#sk-container-id-3 div.sk-parallel-item:last-child::after {align-self: flex-start;width: 50%;}#sk-container-id-3 div.sk-parallel-item:only-child::after {width: 0;}#sk-container-id-3 div.sk-dashed-wrapped {border: 1px dashed gray;margin: 0 0.4em 0.5em 0.4em;box-sizing: border-box;padding-bottom: 0.4em;background-color: white;}#sk-container-id-3 div.sk-label label {font-family: monospace;font-weight: bold;display: inline-block;line-height: 1.2em;}#sk-container-id-3 div.sk-label-container {text-align: center;}#sk-container-id-3 div.sk-container {/* jupyter's `normalize.less` sets `[hidden] { display: none; }` but bootstrap.min.css set `[hidden] { display: none !important; }` so we also need the `!important` here to be able to override the default hidden behavior on the sphinx rendered scikit-learn.org. See: https://github.com/scikit-learn/scikit-learn/issues/21755 */display: inline-block !important;position: relative;}#sk-container-id-3 div.sk-text-repr-fallback {display: none;}</style><div id=\"sk-container-id-3\" class=\"sk-top-container\"><div class=\"sk-text-repr-fallback\"><pre>MLPClassifier(alpha=0.02, hidden_layer_sizes=(10, 10, 10), max_iter=100,\n",
       "              solver=&#x27;lbfgs&#x27;)</pre><b>In a Jupyter environment, please rerun this cell to show the HTML representation or trust the notebook. <br />On GitHub, the HTML representation is unable to render, please try loading this page with nbviewer.org.</b></div><div class=\"sk-container\" hidden><div class=\"sk-item\"><div class=\"sk-estimator sk-toggleable\"><input class=\"sk-toggleable__control sk-hidden--visually\" id=\"sk-estimator-id-3\" type=\"checkbox\" checked><label for=\"sk-estimator-id-3\" class=\"sk-toggleable__label sk-toggleable__label-arrow\">MLPClassifier</label><div class=\"sk-toggleable__content\"><pre>MLPClassifier(alpha=0.02, hidden_layer_sizes=(10, 10, 10), max_iter=100,\n",
       "              solver=&#x27;lbfgs&#x27;)</pre></div></div></div></div></div>"
      ],
      "text/plain": [
       "MLPClassifier(alpha=0.02, hidden_layer_sizes=(10, 10, 10), max_iter=100,\n",
       "              solver='lbfgs')"
      ]
     },
     "execution_count": 57,
     "metadata": {},
     "output_type": "execute_result"
    }
   ],
   "source": [
    "mlpc_tuned.fit(X_train_scaled, y_train)"
   ]
  },
  {
   "cell_type": "code",
   "execution_count": 58,
   "id": "7e73f67f-8f7e-4ae4-9622-d7da402b151e",
   "metadata": {},
   "outputs": [
    {
     "data": {
      "text/plain": [
       "0.7336828435380693"
      ]
     },
     "execution_count": 58,
     "metadata": {},
     "output_type": "execute_result"
    }
   ],
   "source": [
    "y_pred = mlpc_tuned.predict(X_test_scaled)\n",
    "accuracy_score(y_test, y_pred)"
   ]
  },
  {
   "cell_type": "code",
   "execution_count": 59,
   "id": "004bd2ec-6868-4b88-8833-bd763198b416",
   "metadata": {},
   "outputs": [
    {
     "name": "stdout",
     "output_type": "stream",
     "text": [
      "              precision    recall  f1-score   support\n",
      "\n",
      "           0       0.76      0.69      0.72     10419\n",
      "           1       0.71      0.78      0.75     10372\n",
      "\n",
      "    accuracy                           0.73     20791\n",
      "   macro avg       0.74      0.73      0.73     20791\n",
      "weighted avg       0.74      0.73      0.73     20791\n",
      "\n"
     ]
    }
   ],
   "source": [
    "print(classification_report(y_test, y_pred))"
   ]
  },
  {
   "cell_type": "markdown",
   "id": "2db9b526-e613-48cb-b358-2d2db05ed61f",
   "metadata": {},
   "source": [
    "# CART"
   ]
  },
  {
   "cell_type": "markdown",
   "id": "37de72c2-c607-4124-91df-c09cf4a0251b",
   "metadata": {},
   "source": [
    "## Model & Tahmin"
   ]
  },
  {
   "cell_type": "code",
   "execution_count": 77,
   "id": "7e515258-06a4-44ab-8c70-e565e0b5f2fd",
   "metadata": {
    "tags": []
   },
   "outputs": [],
   "source": [
    "X_train, X_test, y_train, y_test = train_test_split(X, y, \n",
    "                                                    test_size=0.30, \n",
    "                                                    random_state=42)"
   ]
  },
  {
   "cell_type": "code",
   "execution_count": 78,
   "id": "6796d683-11ab-4492-a483-f1955c621497",
   "metadata": {
    "tags": []
   },
   "outputs": [],
   "source": [
    "from sklearn.tree import DecisionTreeClassifier"
   ]
  },
  {
   "cell_type": "code",
   "execution_count": 79,
   "id": "cb6185d1-e775-4819-9427-34abdec1305d",
   "metadata": {
    "tags": []
   },
   "outputs": [],
   "source": [
    "cart = DecisionTreeClassifier()\n",
    "cart_model = cart.fit(X_train, y_train)"
   ]
  },
  {
   "cell_type": "code",
   "execution_count": 80,
   "id": "308b26bd-37c7-42b6-8ec0-9b4a9d48e475",
   "metadata": {
    "tags": []
   },
   "outputs": [
    {
     "data": {
      "text/html": [
       "<style>#sk-container-id-5 {color: black;}#sk-container-id-5 pre{padding: 0;}#sk-container-id-5 div.sk-toggleable {background-color: white;}#sk-container-id-5 label.sk-toggleable__label {cursor: pointer;display: block;width: 100%;margin-bottom: 0;padding: 0.3em;box-sizing: border-box;text-align: center;}#sk-container-id-5 label.sk-toggleable__label-arrow:before {content: \"▸\";float: left;margin-right: 0.25em;color: #696969;}#sk-container-id-5 label.sk-toggleable__label-arrow:hover:before {color: black;}#sk-container-id-5 div.sk-estimator:hover label.sk-toggleable__label-arrow:before {color: black;}#sk-container-id-5 div.sk-toggleable__content {max-height: 0;max-width: 0;overflow: hidden;text-align: left;background-color: #f0f8ff;}#sk-container-id-5 div.sk-toggleable__content pre {margin: 0.2em;color: black;border-radius: 0.25em;background-color: #f0f8ff;}#sk-container-id-5 input.sk-toggleable__control:checked~div.sk-toggleable__content {max-height: 200px;max-width: 100%;overflow: auto;}#sk-container-id-5 input.sk-toggleable__control:checked~label.sk-toggleable__label-arrow:before {content: \"▾\";}#sk-container-id-5 div.sk-estimator input.sk-toggleable__control:checked~label.sk-toggleable__label {background-color: #d4ebff;}#sk-container-id-5 div.sk-label input.sk-toggleable__control:checked~label.sk-toggleable__label {background-color: #d4ebff;}#sk-container-id-5 input.sk-hidden--visually {border: 0;clip: rect(1px 1px 1px 1px);clip: rect(1px, 1px, 1px, 1px);height: 1px;margin: -1px;overflow: hidden;padding: 0;position: absolute;width: 1px;}#sk-container-id-5 div.sk-estimator {font-family: monospace;background-color: #f0f8ff;border: 1px dotted black;border-radius: 0.25em;box-sizing: border-box;margin-bottom: 0.5em;}#sk-container-id-5 div.sk-estimator:hover {background-color: #d4ebff;}#sk-container-id-5 div.sk-parallel-item::after {content: \"\";width: 100%;border-bottom: 1px solid gray;flex-grow: 1;}#sk-container-id-5 div.sk-label:hover label.sk-toggleable__label {background-color: #d4ebff;}#sk-container-id-5 div.sk-serial::before {content: \"\";position: absolute;border-left: 1px solid gray;box-sizing: border-box;top: 0;bottom: 0;left: 50%;z-index: 0;}#sk-container-id-5 div.sk-serial {display: flex;flex-direction: column;align-items: center;background-color: white;padding-right: 0.2em;padding-left: 0.2em;position: relative;}#sk-container-id-5 div.sk-item {position: relative;z-index: 1;}#sk-container-id-5 div.sk-parallel {display: flex;align-items: stretch;justify-content: center;background-color: white;position: relative;}#sk-container-id-5 div.sk-item::before, #sk-container-id-5 div.sk-parallel-item::before {content: \"\";position: absolute;border-left: 1px solid gray;box-sizing: border-box;top: 0;bottom: 0;left: 50%;z-index: -1;}#sk-container-id-5 div.sk-parallel-item {display: flex;flex-direction: column;z-index: 1;position: relative;background-color: white;}#sk-container-id-5 div.sk-parallel-item:first-child::after {align-self: flex-end;width: 50%;}#sk-container-id-5 div.sk-parallel-item:last-child::after {align-self: flex-start;width: 50%;}#sk-container-id-5 div.sk-parallel-item:only-child::after {width: 0;}#sk-container-id-5 div.sk-dashed-wrapped {border: 1px dashed gray;margin: 0 0.4em 0.5em 0.4em;box-sizing: border-box;padding-bottom: 0.4em;background-color: white;}#sk-container-id-5 div.sk-label label {font-family: monospace;font-weight: bold;display: inline-block;line-height: 1.2em;}#sk-container-id-5 div.sk-label-container {text-align: center;}#sk-container-id-5 div.sk-container {/* jupyter's `normalize.less` sets `[hidden] { display: none; }` but bootstrap.min.css set `[hidden] { display: none !important; }` so we also need the `!important` here to be able to override the default hidden behavior on the sphinx rendered scikit-learn.org. See: https://github.com/scikit-learn/scikit-learn/issues/21755 */display: inline-block !important;position: relative;}#sk-container-id-5 div.sk-text-repr-fallback {display: none;}</style><div id=\"sk-container-id-5\" class=\"sk-top-container\"><div class=\"sk-text-repr-fallback\"><pre>DecisionTreeClassifier()</pre><b>In a Jupyter environment, please rerun this cell to show the HTML representation or trust the notebook. <br />On GitHub, the HTML representation is unable to render, please try loading this page with nbviewer.org.</b></div><div class=\"sk-container\" hidden><div class=\"sk-item\"><div class=\"sk-estimator sk-toggleable\"><input class=\"sk-toggleable__control sk-hidden--visually\" id=\"sk-estimator-id-5\" type=\"checkbox\" checked><label for=\"sk-estimator-id-5\" class=\"sk-toggleable__label sk-toggleable__label-arrow\">DecisionTreeClassifier</label><div class=\"sk-toggleable__content\"><pre>DecisionTreeClassifier()</pre></div></div></div></div></div>"
      ],
      "text/plain": [
       "DecisionTreeClassifier()"
      ]
     },
     "execution_count": 80,
     "metadata": {},
     "output_type": "execute_result"
    }
   ],
   "source": [
    "cart_model"
   ]
  },
  {
   "cell_type": "code",
   "execution_count": 81,
   "id": "ad0d76cc-9739-41c5-9f5d-886c28d1cd74",
   "metadata": {
    "tags": []
   },
   "outputs": [
    {
     "data": {
      "text/plain": [
       "0.632244721273628"
      ]
     },
     "execution_count": 81,
     "metadata": {},
     "output_type": "execute_result"
    }
   ],
   "source": [
    "y_pred = cart_model.predict(X_test)\n",
    "accuracy_score(y_test, y_pred)"
   ]
  },
  {
   "cell_type": "code",
   "execution_count": 82,
   "id": "01fa5cf5-45af-4f34-9f97-f3d4724cd368",
   "metadata": {
    "tags": []
   },
   "outputs": [
    {
     "name": "stdout",
     "output_type": "stream",
     "text": [
      "              precision    recall  f1-score   support\n",
      "\n",
      "           0       0.63      0.64      0.63     10419\n",
      "           1       0.63      0.63      0.63     10372\n",
      "\n",
      "    accuracy                           0.63     20791\n",
      "   macro avg       0.63      0.63      0.63     20791\n",
      "weighted avg       0.63      0.63      0.63     20791\n",
      "\n"
     ]
    }
   ],
   "source": [
    "print(classification_report(y_test, y_pred))"
   ]
  },
  {
   "cell_type": "markdown",
   "id": "675ebc27-1f6c-4c5c-93b1-6e78e2c197dc",
   "metadata": {},
   "source": [
    "## Model Tuning"
   ]
  },
  {
   "cell_type": "code",
   "execution_count": 83,
   "id": "c1f241e2-c967-4f6d-94a4-f7f3c7cb1f10",
   "metadata": {
    "tags": []
   },
   "outputs": [
    {
     "data": {
      "text/plain": [
       "{'ccp_alpha': 0.0,\n",
       " 'class_weight': None,\n",
       " 'criterion': 'gini',\n",
       " 'max_depth': None,\n",
       " 'max_features': None,\n",
       " 'max_leaf_nodes': None,\n",
       " 'min_impurity_decrease': 0.0,\n",
       " 'min_samples_leaf': 1,\n",
       " 'min_samples_split': 2,\n",
       " 'min_weight_fraction_leaf': 0.0,\n",
       " 'random_state': None,\n",
       " 'splitter': 'best'}"
      ]
     },
     "execution_count": 83,
     "metadata": {},
     "output_type": "execute_result"
    }
   ],
   "source": [
    "cart_model.get_params()"
   ]
  },
  {
   "cell_type": "code",
   "execution_count": 84,
   "id": "152a5841-2275-40a5-bc04-8d5e93e6c60d",
   "metadata": {
    "tags": []
   },
   "outputs": [],
   "source": [
    "cart_grid = {\"max_depth\": range(1,10),\n",
    "            \"min_samples_split\" : list(range(2,50)) }\n",
    "\n",
    "#maxdepth: ağacın derinliği bilgisi, ağacın karmaşıklığını dallanmaları kontrol etmek için kullanılan bir parametre\n",
    "#Ağacın maksimum derinliği. \n",
    "#Hiçbiri yoksa, düğümler tüm yapraklar saf olana kadar veya tüm yapraklar min_samples_split'ten daha az örnek içerene kadar genişletilir.\n",
    "#dallanma dolayısıyla overfitting önüne geçmek için kullanılır\n",
    "\n",
    "#min_samples_split; Bölünme için gerekli olan minimum örnek sayısı. Bir bölünme gerçekleşti, tekrar bölünme gerçekleşip gerçekleşmeyeceğini belirlemek için kullanılan bir argüman."
   ]
  },
  {
   "cell_type": "code",
   "execution_count": 86,
   "id": "665d5f98-5e2d-47ed-9fd3-e542d7814064",
   "metadata": {
    "tags": []
   },
   "outputs": [
    {
     "name": "stdout",
     "output_type": "stream",
     "text": [
      "Fitting 5 folds for each of 432 candidates, totalling 2160 fits\n"
     ]
    }
   ],
   "source": [
    "cart = DecisionTreeClassifier()\n",
    "cart_cv_model = GridSearchCV(cart, cart_grid, cv = 5, n_jobs = -1, verbose = 2).fit(X_train, y_train)"
   ]
  },
  {
   "cell_type": "code",
   "execution_count": 87,
   "id": "375ac55b-85e9-4479-846c-d8a2bd6f1cf2",
   "metadata": {
    "tags": []
   },
   "outputs": [
    {
     "name": "stdout",
     "output_type": "stream",
     "text": [
      "En iyi parametreler: {'max_depth': 7, 'min_samples_split': 41}\n"
     ]
    }
   ],
   "source": [
    "print(\"En iyi parametreler: \" + str(cart_cv_model.best_params_))"
   ]
  },
  {
   "cell_type": "code",
   "execution_count": 88,
   "id": "470dd4eb-473a-4aeb-b2bb-6ca4b6bfb208",
   "metadata": {
    "tags": []
   },
   "outputs": [],
   "source": [
    "cart = DecisionTreeClassifier(max_depth = 7, min_samples_split = 41)\n",
    "cart_tuned = cart.fit(X_train, y_train)"
   ]
  },
  {
   "cell_type": "code",
   "execution_count": 89,
   "id": "7893eea3-3980-4b18-ad23-fcd48e496aea",
   "metadata": {
    "tags": []
   },
   "outputs": [
    {
     "data": {
      "text/plain": [
       "0.7297869270357367"
      ]
     },
     "execution_count": 89,
     "metadata": {},
     "output_type": "execute_result"
    }
   ],
   "source": [
    "y_pred = cart_tuned.predict(X_test)\n",
    "accuracy_score(y_test, y_pred)"
   ]
  },
  {
   "cell_type": "code",
   "execution_count": 90,
   "id": "94792efa-ea03-4981-8aef-7acf16470549",
   "metadata": {
    "tags": []
   },
   "outputs": [
    {
     "name": "stdout",
     "output_type": "stream",
     "text": [
      "              precision    recall  f1-score   support\n",
      "\n",
      "           0       0.75      0.69      0.72     10419\n",
      "           1       0.71      0.77      0.74     10372\n",
      "\n",
      "    accuracy                           0.73     20791\n",
      "   macro avg       0.73      0.73      0.73     20791\n",
      "weighted avg       0.73      0.73      0.73     20791\n",
      "\n"
     ]
    }
   ],
   "source": [
    "print(classification_report(y_test, y_pred))"
   ]
  },
  {
   "cell_type": "markdown",
   "id": "d7888d10-4d73-4bbb-961f-564bee78818a",
   "metadata": {},
   "source": [
    "# XGBoost"
   ]
  },
  {
   "cell_type": "markdown",
   "id": "f60e6a39-b1c5-418f-aab2-2aaf48179334",
   "metadata": {},
   "source": [
    "## Model & Tahmin"
   ]
  },
  {
   "cell_type": "code",
   "execution_count": 60,
   "id": "cb982d32-f63f-467b-9820-4dbea2504f70",
   "metadata": {
    "tags": []
   },
   "outputs": [],
   "source": [
    "X_train, X_test, y_train, y_test = train_test_split(X, y, \n",
    "                                                    test_size=0.30, \n",
    "                                                    random_state=42)"
   ]
  },
  {
   "cell_type": "code",
   "execution_count": 62,
   "id": "2ed987f0-f904-454e-a182-b24151f22e16",
   "metadata": {
    "tags": []
   },
   "outputs": [
    {
     "name": "stdout",
     "output_type": "stream",
     "text": [
      "Defaulting to user installation because normal site-packages is not writeable\n",
      "Requirement already satisfied: xgboost in c:\\users\\90505\\appdata\\roaming\\python\\python311\\site-packages (2.0.3)\n",
      "Requirement already satisfied: numpy in c:\\programdata\\anaconda3\\lib\\site-packages (from xgboost) (1.24.3)\n",
      "Requirement already satisfied: scipy in c:\\programdata\\anaconda3\\lib\\site-packages (from xgboost) (1.11.1)\n"
     ]
    }
   ],
   "source": [
    "!pip install xgboost\n",
    "from xgboost import XGBClassifier"
   ]
  },
  {
   "cell_type": "code",
   "execution_count": 63,
   "id": "d1f94e85-d56a-4aec-8634-a334e63e6c04",
   "metadata": {
    "tags": []
   },
   "outputs": [],
   "source": [
    "xgb_model = XGBClassifier().fit(X_train, y_train)"
   ]
  },
  {
   "cell_type": "code",
   "execution_count": 64,
   "id": "27c224d0-9946-49db-8b55-8d784fff0f6f",
   "metadata": {
    "tags": []
   },
   "outputs": [
    {
     "data": {
      "text/html": [
       "<style>#sk-container-id-4 {color: black;}#sk-container-id-4 pre{padding: 0;}#sk-container-id-4 div.sk-toggleable {background-color: white;}#sk-container-id-4 label.sk-toggleable__label {cursor: pointer;display: block;width: 100%;margin-bottom: 0;padding: 0.3em;box-sizing: border-box;text-align: center;}#sk-container-id-4 label.sk-toggleable__label-arrow:before {content: \"▸\";float: left;margin-right: 0.25em;color: #696969;}#sk-container-id-4 label.sk-toggleable__label-arrow:hover:before {color: black;}#sk-container-id-4 div.sk-estimator:hover label.sk-toggleable__label-arrow:before {color: black;}#sk-container-id-4 div.sk-toggleable__content {max-height: 0;max-width: 0;overflow: hidden;text-align: left;background-color: #f0f8ff;}#sk-container-id-4 div.sk-toggleable__content pre {margin: 0.2em;color: black;border-radius: 0.25em;background-color: #f0f8ff;}#sk-container-id-4 input.sk-toggleable__control:checked~div.sk-toggleable__content {max-height: 200px;max-width: 100%;overflow: auto;}#sk-container-id-4 input.sk-toggleable__control:checked~label.sk-toggleable__label-arrow:before {content: \"▾\";}#sk-container-id-4 div.sk-estimator input.sk-toggleable__control:checked~label.sk-toggleable__label {background-color: #d4ebff;}#sk-container-id-4 div.sk-label input.sk-toggleable__control:checked~label.sk-toggleable__label {background-color: #d4ebff;}#sk-container-id-4 input.sk-hidden--visually {border: 0;clip: rect(1px 1px 1px 1px);clip: rect(1px, 1px, 1px, 1px);height: 1px;margin: -1px;overflow: hidden;padding: 0;position: absolute;width: 1px;}#sk-container-id-4 div.sk-estimator {font-family: monospace;background-color: #f0f8ff;border: 1px dotted black;border-radius: 0.25em;box-sizing: border-box;margin-bottom: 0.5em;}#sk-container-id-4 div.sk-estimator:hover {background-color: #d4ebff;}#sk-container-id-4 div.sk-parallel-item::after {content: \"\";width: 100%;border-bottom: 1px solid gray;flex-grow: 1;}#sk-container-id-4 div.sk-label:hover label.sk-toggleable__label {background-color: #d4ebff;}#sk-container-id-4 div.sk-serial::before {content: \"\";position: absolute;border-left: 1px solid gray;box-sizing: border-box;top: 0;bottom: 0;left: 50%;z-index: 0;}#sk-container-id-4 div.sk-serial {display: flex;flex-direction: column;align-items: center;background-color: white;padding-right: 0.2em;padding-left: 0.2em;position: relative;}#sk-container-id-4 div.sk-item {position: relative;z-index: 1;}#sk-container-id-4 div.sk-parallel {display: flex;align-items: stretch;justify-content: center;background-color: white;position: relative;}#sk-container-id-4 div.sk-item::before, #sk-container-id-4 div.sk-parallel-item::before {content: \"\";position: absolute;border-left: 1px solid gray;box-sizing: border-box;top: 0;bottom: 0;left: 50%;z-index: -1;}#sk-container-id-4 div.sk-parallel-item {display: flex;flex-direction: column;z-index: 1;position: relative;background-color: white;}#sk-container-id-4 div.sk-parallel-item:first-child::after {align-self: flex-end;width: 50%;}#sk-container-id-4 div.sk-parallel-item:last-child::after {align-self: flex-start;width: 50%;}#sk-container-id-4 div.sk-parallel-item:only-child::after {width: 0;}#sk-container-id-4 div.sk-dashed-wrapped {border: 1px dashed gray;margin: 0 0.4em 0.5em 0.4em;box-sizing: border-box;padding-bottom: 0.4em;background-color: white;}#sk-container-id-4 div.sk-label label {font-family: monospace;font-weight: bold;display: inline-block;line-height: 1.2em;}#sk-container-id-4 div.sk-label-container {text-align: center;}#sk-container-id-4 div.sk-container {/* jupyter's `normalize.less` sets `[hidden] { display: none; }` but bootstrap.min.css set `[hidden] { display: none !important; }` so we also need the `!important` here to be able to override the default hidden behavior on the sphinx rendered scikit-learn.org. See: https://github.com/scikit-learn/scikit-learn/issues/21755 */display: inline-block !important;position: relative;}#sk-container-id-4 div.sk-text-repr-fallback {display: none;}</style><div id=\"sk-container-id-4\" class=\"sk-top-container\"><div class=\"sk-text-repr-fallback\"><pre>XGBClassifier(base_score=None, booster=None, callbacks=None,\n",
       "              colsample_bylevel=None, colsample_bynode=None,\n",
       "              colsample_bytree=None, device=None, early_stopping_rounds=None,\n",
       "              enable_categorical=False, eval_metric=None, feature_types=None,\n",
       "              gamma=None, grow_policy=None, importance_type=None,\n",
       "              interaction_constraints=None, learning_rate=None, max_bin=None,\n",
       "              max_cat_threshold=None, max_cat_to_onehot=None,\n",
       "              max_delta_step=None, max_depth=None, max_leaves=None,\n",
       "              min_child_weight=None, missing=nan, monotone_constraints=None,\n",
       "              multi_strategy=None, n_estimators=None, n_jobs=None,\n",
       "              num_parallel_tree=None, random_state=None, ...)</pre><b>In a Jupyter environment, please rerun this cell to show the HTML representation or trust the notebook. <br />On GitHub, the HTML representation is unable to render, please try loading this page with nbviewer.org.</b></div><div class=\"sk-container\" hidden><div class=\"sk-item\"><div class=\"sk-estimator sk-toggleable\"><input class=\"sk-toggleable__control sk-hidden--visually\" id=\"sk-estimator-id-4\" type=\"checkbox\" checked><label for=\"sk-estimator-id-4\" class=\"sk-toggleable__label sk-toggleable__label-arrow\">XGBClassifier</label><div class=\"sk-toggleable__content\"><pre>XGBClassifier(base_score=None, booster=None, callbacks=None,\n",
       "              colsample_bylevel=None, colsample_bynode=None,\n",
       "              colsample_bytree=None, device=None, early_stopping_rounds=None,\n",
       "              enable_categorical=False, eval_metric=None, feature_types=None,\n",
       "              gamma=None, grow_policy=None, importance_type=None,\n",
       "              interaction_constraints=None, learning_rate=None, max_bin=None,\n",
       "              max_cat_threshold=None, max_cat_to_onehot=None,\n",
       "              max_delta_step=None, max_depth=None, max_leaves=None,\n",
       "              min_child_weight=None, missing=nan, monotone_constraints=None,\n",
       "              multi_strategy=None, n_estimators=None, n_jobs=None,\n",
       "              num_parallel_tree=None, random_state=None, ...)</pre></div></div></div></div></div>"
      ],
      "text/plain": [
       "XGBClassifier(base_score=None, booster=None, callbacks=None,\n",
       "              colsample_bylevel=None, colsample_bynode=None,\n",
       "              colsample_bytree=None, device=None, early_stopping_rounds=None,\n",
       "              enable_categorical=False, eval_metric=None, feature_types=None,\n",
       "              gamma=None, grow_policy=None, importance_type=None,\n",
       "              interaction_constraints=None, learning_rate=None, max_bin=None,\n",
       "              max_cat_threshold=None, max_cat_to_onehot=None,\n",
       "              max_delta_step=None, max_depth=None, max_leaves=None,\n",
       "              min_child_weight=None, missing=nan, monotone_constraints=None,\n",
       "              multi_strategy=None, n_estimators=None, n_jobs=None,\n",
       "              num_parallel_tree=None, random_state=None, ...)"
      ]
     },
     "execution_count": 64,
     "metadata": {},
     "output_type": "execute_result"
    }
   ],
   "source": [
    "xgb_model"
   ]
  },
  {
   "cell_type": "code",
   "execution_count": 65,
   "id": "0c9fc715-ed95-49b5-9a13-08fc2c9520e5",
   "metadata": {
    "tags": []
   },
   "outputs": [
    {
     "data": {
      "text/plain": [
       "0.731662738685008"
      ]
     },
     "execution_count": 65,
     "metadata": {},
     "output_type": "execute_result"
    }
   ],
   "source": [
    "y_pred = xgb_model.predict(X_test)\n",
    "accuracy_score(y_test, y_pred)"
   ]
  },
  {
   "cell_type": "code",
   "execution_count": 66,
   "id": "793de956-c260-4f39-ae0f-f382519cf110",
   "metadata": {
    "tags": []
   },
   "outputs": [
    {
     "name": "stdout",
     "output_type": "stream",
     "text": [
      "              precision    recall  f1-score   support\n",
      "\n",
      "           0       0.75      0.69      0.72     10419\n",
      "           1       0.71      0.77      0.74     10372\n",
      "\n",
      "    accuracy                           0.73     20791\n",
      "   macro avg       0.73      0.73      0.73     20791\n",
      "weighted avg       0.73      0.73      0.73     20791\n",
      "\n"
     ]
    }
   ],
   "source": [
    "print(classification_report(y_test, y_pred))"
   ]
  },
  {
   "cell_type": "markdown",
   "id": "cb489195-adf8-419c-8fd7-76d576cd1db3",
   "metadata": {},
   "source": [
    "## Model Tuning"
   ]
  },
  {
   "cell_type": "code",
   "execution_count": 67,
   "id": "27d6f0de-8055-4dd3-a686-e00064a22759",
   "metadata": {
    "tags": []
   },
   "outputs": [
    {
     "data": {
      "text/plain": [
       "{'objective': 'binary:logistic',\n",
       " 'base_score': None,\n",
       " 'booster': None,\n",
       " 'callbacks': None,\n",
       " 'colsample_bylevel': None,\n",
       " 'colsample_bynode': None,\n",
       " 'colsample_bytree': None,\n",
       " 'device': None,\n",
       " 'early_stopping_rounds': None,\n",
       " 'enable_categorical': False,\n",
       " 'eval_metric': None,\n",
       " 'feature_types': None,\n",
       " 'gamma': None,\n",
       " 'grow_policy': None,\n",
       " 'importance_type': None,\n",
       " 'interaction_constraints': None,\n",
       " 'learning_rate': None,\n",
       " 'max_bin': None,\n",
       " 'max_cat_threshold': None,\n",
       " 'max_cat_to_onehot': None,\n",
       " 'max_delta_step': None,\n",
       " 'max_depth': None,\n",
       " 'max_leaves': None,\n",
       " 'min_child_weight': None,\n",
       " 'missing': nan,\n",
       " 'monotone_constraints': None,\n",
       " 'multi_strategy': None,\n",
       " 'n_estimators': None,\n",
       " 'n_jobs': None,\n",
       " 'num_parallel_tree': None,\n",
       " 'random_state': None,\n",
       " 'reg_alpha': None,\n",
       " 'reg_lambda': None,\n",
       " 'sampling_method': None,\n",
       " 'scale_pos_weight': None,\n",
       " 'subsample': None,\n",
       " 'tree_method': None,\n",
       " 'validate_parameters': None,\n",
       " 'verbosity': None}"
      ]
     },
     "execution_count": 67,
     "metadata": {},
     "output_type": "execute_result"
    }
   ],
   "source": [
    "xgb_model.get_params()"
   ]
  },
  {
   "cell_type": "code",
   "execution_count": 68,
   "id": "6788ffbd-c864-4576-adcd-e81a91794579",
   "metadata": {
    "tags": []
   },
   "outputs": [],
   "source": [
    "xgb_params = {\n",
    "        'n_estimators': [100, 500, 1000, 2000],\n",
    "        'subsample': [0.6, 0.8, 1.0],\n",
    "        'max_depth': [3, 4, 5,6],\n",
    "        'learning_rate': [0.1,0.01,0.02,0.05],\n",
    "        \"min_samples_split\": [2,5,10]}\n",
    "\n",
    "#'subsample'; Eğitim örneğinin alt örnek oranı. "
   ]
  },
  {
   "cell_type": "code",
   "execution_count": 69,
   "id": "f9193632-6bfc-4294-aab3-886f346aae7e",
   "metadata": {
    "tags": []
   },
   "outputs": [
    {
     "name": "stdout",
     "output_type": "stream",
     "text": [
      "Fitting 5 folds for each of 576 candidates, totalling 2880 fits\n"
     ]
    }
   ],
   "source": [
    "xgb = XGBClassifier()\n",
    "\n",
    "xgb_cv_model = GridSearchCV(xgb, xgb_params, cv = 5, n_jobs = -1, verbose = 2).fit(X_train, y_train)"
   ]
  },
  {
   "cell_type": "code",
   "execution_count": 70,
   "id": "3c6a2240-0970-4e13-a492-fbdd89790ca8",
   "metadata": {
    "tags": []
   },
   "outputs": [
    {
     "name": "stdout",
     "output_type": "stream",
     "text": [
      "En iyi parametreler: {'learning_rate': 0.05, 'max_depth': 6, 'min_samples_split': 2, 'n_estimators': 100, 'subsample': 0.8}\n"
     ]
    }
   ],
   "source": [
    "print(\"En iyi parametreler: \" + str(xgb_cv_model.best_params_))"
   ]
  },
  {
   "cell_type": "code",
   "execution_count": 71,
   "id": "7c22fd7c-d7d1-4625-9277-26db2f012a21",
   "metadata": {
    "tags": []
   },
   "outputs": [],
   "source": [
    "xgb = XGBClassifier(learning_rate = 0.05, \n",
    "                    max_depth = 6,\n",
    "                    min_samples_split = 2,\n",
    "                    n_estimators = 100,\n",
    "                    subsample = 0.8)"
   ]
  },
  {
   "cell_type": "code",
   "execution_count": 72,
   "id": "6ad06ecc-9503-47d7-80b6-09b7ce1139be",
   "metadata": {
    "tags": []
   },
   "outputs": [],
   "source": [
    "xgb_tuned =  xgb.fit(X_train,y_train)"
   ]
  },
  {
   "cell_type": "code",
   "execution_count": 73,
   "id": "b5b765b4-f9d6-4f7c-95bf-c282ffaeda63",
   "metadata": {
    "tags": []
   },
   "outputs": [
    {
     "data": {
      "text/plain": [
       "0.7362320234716945"
      ]
     },
     "execution_count": 73,
     "metadata": {},
     "output_type": "execute_result"
    }
   ],
   "source": [
    "y_pred = xgb_tuned.predict(X_test)\n",
    "accuracy_score(y_test, y_pred)"
   ]
  },
  {
   "cell_type": "code",
   "execution_count": 74,
   "id": "a19f5da4-ee1b-4552-92dd-b7b8d69cba75",
   "metadata": {
    "tags": []
   },
   "outputs": [
    {
     "name": "stdout",
     "output_type": "stream",
     "text": [
      "              precision    recall  f1-score   support\n",
      "\n",
      "           0       0.76      0.69      0.72     10419\n",
      "           1       0.72      0.78      0.75     10372\n",
      "\n",
      "    accuracy                           0.74     20791\n",
      "   macro avg       0.74      0.74      0.74     20791\n",
      "weighted avg       0.74      0.74      0.74     20791\n",
      "\n"
     ]
    }
   ],
   "source": [
    "print(classification_report(y_test, y_pred))"
   ]
  },
  {
   "cell_type": "markdown",
   "id": "ae5a26a5-fdc2-4be0-b5ae-e88f6a6872e6",
   "metadata": {},
   "source": [
    "# Tüm Modellerin Karşılaştırılması"
   ]
  },
  {
   "cell_type": "code",
   "execution_count": 91,
   "id": "b0d4c27c-2c4f-407a-9f21-9c3c89e0492f",
   "metadata": {
    "tags": []
   },
   "outputs": [
    {
     "name": "stdout",
     "output_type": "stream",
     "text": [
      "-------------------------\n",
      "KNeighborsClassifier:\n",
      "Accuracy: 71.8388%\n",
      "-------------------------\n",
      "MLPClassifier:\n",
      "Accuracy: 73.3683%\n",
      "-------------------------\n",
      "DecisionTreeClassifier:\n",
      "Accuracy: 72.9787%\n",
      "-------------------------\n",
      "XGBClassifier:\n",
      "Accuracy: 73.6232%\n"
     ]
    }
   ],
   "source": [
    "modeller = [\n",
    "    knn_tuned,\n",
    "    mlpc_tuned,\n",
    "    cart_tuned,\n",
    "    xgb_tuned\n",
    "]\n",
    "\n",
    "\n",
    "for model in modeller:\n",
    "    isimler = model.__class__.__name__\n",
    "    if isimler == \"MLPClassifier\":\n",
    "        y_pred = model.predict(X_test_scaled)\n",
    "    else:\n",
    "        y_pred = model.predict(X_test)\n",
    "    dogruluk = accuracy_score(y_test, y_pred)\n",
    "    print(\"-\"*25)\n",
    "    print(isimler + \":\" )\n",
    "    print(\"Accuracy: {:.4%}\".format(dogruluk))"
   ]
  },
  {
   "cell_type": "code",
   "execution_count": 93,
   "id": "b12a2b0c-70ef-473d-a816-22aeab114794",
   "metadata": {
    "tags": []
   },
   "outputs": [
    {
     "data": {
      "image/png": "[encoded data removed]",
      "text/plain": [
       "<Figure size 640x480 with 1 Axes>"
      ]
     },
     "metadata": {},
     "output_type": "display_data"
    }
   ],
   "source": [
    "sonuc = []\n",
    "\n",
    "sonuclar = pd.DataFrame(columns= [\"Modeller\",\"Accuracy\"])\n",
    "\n",
    "for model in modeller:\n",
    "    isimler = model.__class__.__name__\n",
    "    if isimler == \"MLPClassifier\":\n",
    "        y_pred = model.predict(X_test_scaled)\n",
    "    else:\n",
    "        y_pred = model.predict(X_test)\n",
    "    dogruluk = accuracy_score(y_test, y_pred)    \n",
    "    sonuc = pd.DataFrame([[isimler, dogruluk*100]], columns= [\"Modeller\",\"Accuracy\"])\n",
    "    sonuclar = pd.concat([sonuclar, sonuc], ignore_index=True)\n",
    "    #sonuclar = sonuclar.append(sonuc)\n",
    "    \n",
    "    \n",
    "sns.barplot(x= 'Accuracy', y = 'Modeller', data=sonuclar, color=\"g\")\n",
    "plt.xlabel('Accuracy %')\n",
    "plt.title('Modellerin Doğruluk Oranları');  "
   ]
  },
  {
   "cell_type": "code",
   "execution_count": null,
   "id": "c8061f18-20ea-4310-83a4-f7a110d87615",
   "metadata": {},
   "outputs": [],
   "source": []
  }
 ],
 "metadata": {
  "kernelspec": {
   "display_name": "Python 3 (ipykernel)",
   "language": "python",
   "name": "python3"
  },
  "language_info": {
   "codemirror_mode": {
    "name": "ipython",
    "version": 3
   },
   "file_extension": ".py",
   "mimetype": "text/x-python",
   "name": "python",
   "nbconvert_exporter": "python",
   "pygments_lexer": "ipython3",
   "version": "3.11.5"
  }
 },
 "nbformat": 4,
 "nbformat_minor": 5
}
